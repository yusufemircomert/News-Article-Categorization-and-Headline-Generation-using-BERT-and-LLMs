{
  "cells": [
    {
      "cell_type": "markdown",
      "id": "2Y6iQessDuG4",
      "metadata": {
        "id": "2Y6iQessDuG4"
      },
      "source": [
        "AIN 442 - Practicum in Natural Language Processing - Assignment 5\\\n",
        "Yusuf Emir Cömert\\\n",
        "2220765023\n"
      ]
    },
    {
      "cell_type": "markdown",
      "id": "fo3mTchFDjv_",
      "metadata": {
        "id": "fo3mTchFDjv_"
      },
      "source": [
        "Making Necessary Imports And Checking If gpu available for training"
      ]
    },
    {
      "cell_type": "code",
      "execution_count": null,
      "id": "cb6b4a1b",
      "metadata": {
        "colab": {
          "base_uri": "https://localhost:8080/"
        },
        "id": "cb6b4a1b",
        "outputId": "12c0ccaf-92f0-44c9-c009-cab84c5ab4ef"
      },
      "outputs": [
        {
          "name": "stdout",
          "output_type": "stream",
          "text": [
            "True\n",
            "Tesla T4\n"
          ]
        }
      ],
      "source": [
        "import pandas as pd\n",
        "import numpy as np\n",
        "import matplotlib.pyplot as plt\n",
        "from sklearn.model_selection import train_test_split\n",
        "from sklearn.metrics import classification_report, f1_score\n",
        "from transformers import BertTokenizer,BertForSequenceClassification, Trainer, TrainingArguments\n",
        "import torch\n",
        "from datasets import Dataset\n",
        "import seaborn as sns\n",
        "from torch.utils.data import TensorDataset, DataLoader\n",
        "from transformers import BertForSequenceClassification\n",
        "from torch.optim import AdamW, SGD\n",
        "from tqdm import tqdm\n",
        "from torch.utils.data import DataLoader, TensorDataset\n",
        "import requests\n",
        "import json\n",
        "import re\n",
        "\n",
        "import torch\n",
        "print(torch.cuda.is_available())         # True/False\n",
        "print(torch.cuda.get_device_name(0))     # E.g. Tesla T4\n"
      ]
    },
    {
      "cell_type": "markdown",
      "id": "22204e3c",
      "metadata": {},
      "source": [
        "Connecting it to the drive to save the model."
      ]
    },
    {
      "cell_type": "code",
      "execution_count": 13,
      "id": "JBv6EXUlEoo-",
      "metadata": {
        "colab": {
          "base_uri": "https://localhost:8080/"
        },
        "id": "JBv6EXUlEoo-",
        "outputId": "404723fa-1781-453d-c6ef-60d318657edb"
      },
      "outputs": [
        {
          "name": "stdout",
          "output_type": "stream",
          "text": [
            "Mounted at /content/drive\n"
          ]
        }
      ],
      "source": [
        "from google.colab import drive\n",
        "drive.mount('/content/drive', force_remount=True)\n"
      ]
    },
    {
      "cell_type": "markdown",
      "id": "b4d4c3fe",
      "metadata": {},
      "source": [
        "Selecting the device for faster computation"
      ]
    },
    {
      "cell_type": "code",
      "execution_count": null,
      "id": "YJjFuw76YsLy",
      "metadata": {
        "id": "YJjFuw76YsLy"
      },
      "outputs": [],
      "source": [
        "device = torch.device('cuda' if torch.cuda.is_available() else 'cpu')"
      ]
    },
    {
      "cell_type": "code",
      "execution_count": null,
      "id": "5e2ab955",
      "metadata": {
        "colab": {
          "base_uri": "https://localhost:8080/",
          "height": 206
        },
        "id": "5e2ab955",
        "outputId": "cd6d64be-b739-4562-dc25-5646a2123668"
      },
      "outputs": [
        {
          "data": {
            "application/vnd.google.colaboratory.intrinsic+json": {
              "summary": "{\n  \"name\": \"train_df\",\n  \"rows\": 30000,\n  \"fields\": [\n    {\n      \"column\": \"text\",\n      \"properties\": {\n        \"dtype\": \"string\",\n        \"num_unique_values\": 30000,\n        \"samples\": [\n          \"Congress Nears Approval of Multiple Bills WASHINGTON - Ending weeks of stalemate, Congress is preparing to ship nearly \\\\$15 billion to states battered by hurricane and drought as lawmakers plow through a final pile of pre-election bills that would cut taxes and revamp the intelligence community.    The House was expected to approve the hurricane and drought aid Saturday...\",\n          \"Serena Ends Mauresmo #39;s Year-End No. 1 Bid Serena Williams Ends Mauresmo #39;s Bid for Year-End No. 1 Ranking, Will Face Sharapova in WTA Final. Serena Williams waves to the crowd after beating Amelie Mauresmo of France 4-6, 7-6 (2), 6-4 in their semifinal \",\n          \"The Atlanta Journal-Constitution Athens, Greece -- Debbie Ferguson carried the blue and yellow Bahamian flag during the parade of nations in the Olympic opening ceremony, then stood proudly Wednesday night as it flew in Olympic Stadium to honor her bronze medal in the 200 meters.\"\n        ],\n        \"semantic_type\": \"\",\n        \"description\": \"\"\n      }\n    },\n    {\n      \"column\": \"label\",\n      \"properties\": {\n        \"dtype\": \"number\",\n        \"std\": 1,\n        \"min\": 0,\n        \"max\": 3,\n        \"num_unique_values\": 4,\n        \"samples\": [\n          2,\n          1,\n          0\n        ],\n        \"semantic_type\": \"\",\n        \"description\": \"\"\n      }\n    }\n  ]\n}",
              "type": "dataframe",
              "variable_name": "train_df"
            },
            "text/html": [
              "\n",
              "  <div id=\"df-f14194c4-2990-4efe-9d6e-13330dd7cbff\" class=\"colab-df-container\">\n",
              "    <div>\n",
              "<style scoped>\n",
              "    .dataframe tbody tr th:only-of-type {\n",
              "        vertical-align: middle;\n",
              "    }\n",
              "\n",
              "    .dataframe tbody tr th {\n",
              "        vertical-align: top;\n",
              "    }\n",
              "\n",
              "    .dataframe thead th {\n",
              "        text-align: right;\n",
              "    }\n",
              "</style>\n",
              "<table border=\"1\" class=\"dataframe\">\n",
              "  <thead>\n",
              "    <tr style=\"text-align: right;\">\n",
              "      <th></th>\n",
              "      <th>text</th>\n",
              "      <th>label</th>\n",
              "    </tr>\n",
              "  </thead>\n",
              "  <tbody>\n",
              "    <tr>\n",
              "      <th>0</th>\n",
              "      <td>U.S. Strikes Zarqawi Network, Killing 15 BAGHD...</td>\n",
              "      <td>0</td>\n",
              "    </tr>\n",
              "    <tr>\n",
              "      <th>1</th>\n",
              "      <td>MGM shares jump 7.5 pct; report suggests deal ...</td>\n",
              "      <td>2</td>\n",
              "    </tr>\n",
              "    <tr>\n",
              "      <th>2</th>\n",
              "      <td>Logitech launches laser-tracking mouse SAN FRA...</td>\n",
              "      <td>3</td>\n",
              "    </tr>\n",
              "    <tr>\n",
              "      <th>3</th>\n",
              "      <td>Orb Unveils New Service for Digital Media (AP)...</td>\n",
              "      <td>3</td>\n",
              "    </tr>\n",
              "    <tr>\n",
              "      <th>4</th>\n",
              "      <td>Norwegian police hunt for motive, robbers in M...</td>\n",
              "      <td>0</td>\n",
              "    </tr>\n",
              "  </tbody>\n",
              "</table>\n",
              "</div>\n",
              "    <div class=\"colab-df-buttons\">\n",
              "\n",
              "  <div class=\"colab-df-container\">\n",
              "    <button class=\"colab-df-convert\" onclick=\"convertToInteractive('df-f14194c4-2990-4efe-9d6e-13330dd7cbff')\"\n",
              "            title=\"Convert this dataframe to an interactive table.\"\n",
              "            style=\"display:none;\">\n",
              "\n",
              "  <svg xmlns=\"http://www.w3.org/2000/svg\" height=\"24px\" viewBox=\"0 -960 960 960\">\n",
              "    <path d=\"M120-120v-720h720v720H120Zm60-500h600v-160H180v160Zm220 220h160v-160H400v160Zm0 220h160v-160H400v160ZM180-400h160v-160H180v160Zm440 0h160v-160H620v160ZM180-180h160v-160H180v160Zm440 0h160v-160H620v160Z\"/>\n",
              "  </svg>\n",
              "    </button>\n",
              "\n",
              "  <style>\n",
              "    .colab-df-container {\n",
              "      display:flex;\n",
              "      gap: 12px;\n",
              "    }\n",
              "\n",
              "    .colab-df-convert {\n",
              "      background-color: #E8F0FE;\n",
              "      border: none;\n",
              "      border-radius: 50%;\n",
              "      cursor: pointer;\n",
              "      display: none;\n",
              "      fill: #1967D2;\n",
              "      height: 32px;\n",
              "      padding: 0 0 0 0;\n",
              "      width: 32px;\n",
              "    }\n",
              "\n",
              "    .colab-df-convert:hover {\n",
              "      background-color: #E2EBFA;\n",
              "      box-shadow: 0px 1px 2px rgba(60, 64, 67, 0.3), 0px 1px 3px 1px rgba(60, 64, 67, 0.15);\n",
              "      fill: #174EA6;\n",
              "    }\n",
              "\n",
              "    .colab-df-buttons div {\n",
              "      margin-bottom: 4px;\n",
              "    }\n",
              "\n",
              "    [theme=dark] .colab-df-convert {\n",
              "      background-color: #3B4455;\n",
              "      fill: #D2E3FC;\n",
              "    }\n",
              "\n",
              "    [theme=dark] .colab-df-convert:hover {\n",
              "      background-color: #434B5C;\n",
              "      box-shadow: 0px 1px 3px 1px rgba(0, 0, 0, 0.15);\n",
              "      filter: drop-shadow(0px 1px 2px rgba(0, 0, 0, 0.3));\n",
              "      fill: #FFFFFF;\n",
              "    }\n",
              "  </style>\n",
              "\n",
              "    <script>\n",
              "      const buttonEl =\n",
              "        document.querySelector('#df-f14194c4-2990-4efe-9d6e-13330dd7cbff button.colab-df-convert');\n",
              "      buttonEl.style.display =\n",
              "        google.colab.kernel.accessAllowed ? 'block' : 'none';\n",
              "\n",
              "      async function convertToInteractive(key) {\n",
              "        const element = document.querySelector('#df-f14194c4-2990-4efe-9d6e-13330dd7cbff');\n",
              "        const dataTable =\n",
              "          await google.colab.kernel.invokeFunction('convertToInteractive',\n",
              "                                                    [key], {});\n",
              "        if (!dataTable) return;\n",
              "\n",
              "        const docLinkHtml = 'Like what you see? Visit the ' +\n",
              "          '<a target=\"_blank\" href=https://colab.research.google.com/notebooks/data_table.ipynb>data table notebook</a>'\n",
              "          + ' to learn more about interactive tables.';\n",
              "        element.innerHTML = '';\n",
              "        dataTable['output_type'] = 'display_data';\n",
              "        await google.colab.output.renderOutput(dataTable, element);\n",
              "        const docLink = document.createElement('div');\n",
              "        docLink.innerHTML = docLinkHtml;\n",
              "        element.appendChild(docLink);\n",
              "      }\n",
              "    </script>\n",
              "  </div>\n",
              "\n",
              "\n",
              "    <div id=\"df-e3c366c4-d0af-479e-bfea-ba3dea104469\">\n",
              "      <button class=\"colab-df-quickchart\" onclick=\"quickchart('df-e3c366c4-d0af-479e-bfea-ba3dea104469')\"\n",
              "                title=\"Suggest charts\"\n",
              "                style=\"display:none;\">\n",
              "\n",
              "<svg xmlns=\"http://www.w3.org/2000/svg\" height=\"24px\"viewBox=\"0 0 24 24\"\n",
              "     width=\"24px\">\n",
              "    <g>\n",
              "        <path d=\"M19 3H5c-1.1 0-2 .9-2 2v14c0 1.1.9 2 2 2h14c1.1 0 2-.9 2-2V5c0-1.1-.9-2-2-2zM9 17H7v-7h2v7zm4 0h-2V7h2v10zm4 0h-2v-4h2v4z\"/>\n",
              "    </g>\n",
              "</svg>\n",
              "      </button>\n",
              "\n",
              "<style>\n",
              "  .colab-df-quickchart {\n",
              "      --bg-color: #E8F0FE;\n",
              "      --fill-color: #1967D2;\n",
              "      --hover-bg-color: #E2EBFA;\n",
              "      --hover-fill-color: #174EA6;\n",
              "      --disabled-fill-color: #AAA;\n",
              "      --disabled-bg-color: #DDD;\n",
              "  }\n",
              "\n",
              "  [theme=dark] .colab-df-quickchart {\n",
              "      --bg-color: #3B4455;\n",
              "      --fill-color: #D2E3FC;\n",
              "      --hover-bg-color: #434B5C;\n",
              "      --hover-fill-color: #FFFFFF;\n",
              "      --disabled-bg-color: #3B4455;\n",
              "      --disabled-fill-color: #666;\n",
              "  }\n",
              "\n",
              "  .colab-df-quickchart {\n",
              "    background-color: var(--bg-color);\n",
              "    border: none;\n",
              "    border-radius: 50%;\n",
              "    cursor: pointer;\n",
              "    display: none;\n",
              "    fill: var(--fill-color);\n",
              "    height: 32px;\n",
              "    padding: 0;\n",
              "    width: 32px;\n",
              "  }\n",
              "\n",
              "  .colab-df-quickchart:hover {\n",
              "    background-color: var(--hover-bg-color);\n",
              "    box-shadow: 0 1px 2px rgba(60, 64, 67, 0.3), 0 1px 3px 1px rgba(60, 64, 67, 0.15);\n",
              "    fill: var(--button-hover-fill-color);\n",
              "  }\n",
              "\n",
              "  .colab-df-quickchart-complete:disabled,\n",
              "  .colab-df-quickchart-complete:disabled:hover {\n",
              "    background-color: var(--disabled-bg-color);\n",
              "    fill: var(--disabled-fill-color);\n",
              "    box-shadow: none;\n",
              "  }\n",
              "\n",
              "  .colab-df-spinner {\n",
              "    border: 2px solid var(--fill-color);\n",
              "    border-color: transparent;\n",
              "    border-bottom-color: var(--fill-color);\n",
              "    animation:\n",
              "      spin 1s steps(1) infinite;\n",
              "  }\n",
              "\n",
              "  @keyframes spin {\n",
              "    0% {\n",
              "      border-color: transparent;\n",
              "      border-bottom-color: var(--fill-color);\n",
              "      border-left-color: var(--fill-color);\n",
              "    }\n",
              "    20% {\n",
              "      border-color: transparent;\n",
              "      border-left-color: var(--fill-color);\n",
              "      border-top-color: var(--fill-color);\n",
              "    }\n",
              "    30% {\n",
              "      border-color: transparent;\n",
              "      border-left-color: var(--fill-color);\n",
              "      border-top-color: var(--fill-color);\n",
              "      border-right-color: var(--fill-color);\n",
              "    }\n",
              "    40% {\n",
              "      border-color: transparent;\n",
              "      border-right-color: var(--fill-color);\n",
              "      border-top-color: var(--fill-color);\n",
              "    }\n",
              "    60% {\n",
              "      border-color: transparent;\n",
              "      border-right-color: var(--fill-color);\n",
              "    }\n",
              "    80% {\n",
              "      border-color: transparent;\n",
              "      border-right-color: var(--fill-color);\n",
              "      border-bottom-color: var(--fill-color);\n",
              "    }\n",
              "    90% {\n",
              "      border-color: transparent;\n",
              "      border-bottom-color: var(--fill-color);\n",
              "    }\n",
              "  }\n",
              "</style>\n",
              "\n",
              "      <script>\n",
              "        async function quickchart(key) {\n",
              "          const quickchartButtonEl =\n",
              "            document.querySelector('#' + key + ' button');\n",
              "          quickchartButtonEl.disabled = true;  // To prevent multiple clicks.\n",
              "          quickchartButtonEl.classList.add('colab-df-spinner');\n",
              "          try {\n",
              "            const charts = await google.colab.kernel.invokeFunction(\n",
              "                'suggestCharts', [key], {});\n",
              "          } catch (error) {\n",
              "            console.error('Error during call to suggestCharts:', error);\n",
              "          }\n",
              "          quickchartButtonEl.classList.remove('colab-df-spinner');\n",
              "          quickchartButtonEl.classList.add('colab-df-quickchart-complete');\n",
              "        }\n",
              "        (() => {\n",
              "          let quickchartButtonEl =\n",
              "            document.querySelector('#df-e3c366c4-d0af-479e-bfea-ba3dea104469 button');\n",
              "          quickchartButtonEl.style.display =\n",
              "            google.colab.kernel.accessAllowed ? 'block' : 'none';\n",
              "        })();\n",
              "      </script>\n",
              "    </div>\n",
              "\n",
              "    </div>\n",
              "  </div>\n"
            ],
            "text/plain": [
              "                                                text  label\n",
              "0  U.S. Strikes Zarqawi Network, Killing 15 BAGHD...      0\n",
              "1  MGM shares jump 7.5 pct; report suggests deal ...      2\n",
              "2  Logitech launches laser-tracking mouse SAN FRA...      3\n",
              "3  Orb Unveils New Service for Digital Media (AP)...      3\n",
              "4  Norwegian police hunt for motive, robbers in M...      0"
            ]
          },
          "execution_count": 15,
          "metadata": {},
          "output_type": "execute_result"
        }
      ],
      "source": [
        "# Read the dataset and split it into training and testing sets(already splitted).\n",
        "\n",
        "train_df = pd.read_csv('train.csv')\n",
        "test_df = pd.read_csv('test.csv')\n",
        "\n",
        "train_df.head()\n"
      ]
    },
    {
      "cell_type": "markdown",
      "id": "3ff2f9fb",
      "metadata": {},
      "source": [
        "### EDA (Exploratory Data Analysis)"
      ]
    },
    {
      "cell_type": "markdown",
      "id": "1f0a58db",
      "metadata": {},
      "source": [
        "Making Analyses to understand about data."
      ]
    },
    {
      "cell_type": "markdown",
      "id": "6f7e6867",
      "metadata": {},
      "source": [
        "1- Examining Class Distributions. "
      ]
    },
    {
      "cell_type": "code",
      "execution_count": null,
      "id": "f6cfa455",
      "metadata": {
        "colab": {
          "base_uri": "https://localhost:8080/",
          "height": 714
        },
        "id": "f6cfa455",
        "outputId": "ba6f9380-68a7-4220-aed1-c5174c5c2738"
      },
      "outputs": [
        {
          "name": "stderr",
          "output_type": "stream",
          "text": [
            "<ipython-input-16-5384cd7bb376>:3: FutureWarning: \n",
            "\n",
            "Passing `palette` without assigning `hue` is deprecated and will be removed in v0.14.0. Assign the `x` variable to `hue` and set `legend=False` for the same effect.\n",
            "\n",
            "  ax = sns.countplot(x='label', data=train_df, palette='pastel')\n"
          ]
        },
        {
          "data": {
            "image/png": "[encoded data removed]",
            "text/plain": [
              "<Figure size 800x600 with 1 Axes>"
            ]
          },
          "metadata": {},
          "output_type": "display_data"
        }
      ],
      "source": [
        "# Plot: Class Distribution\n",
        "plt.figure(figsize=(8, 6))\n",
        "ax = sns.countplot(x='label', data=train_df, palette='pastel')\n",
        "plt.title('Class Distribution in Training Set', fontsize=14)\n",
        "plt.xlabel('Class Label', fontsize=12)\n",
        "plt.ylabel('Count', fontsize=12)\n",
        "\n",
        "# Add count labels on top of bars\n",
        "for p in ax.patches:\n",
        "    ax.annotate(f'{p.get_height()}', (p.get_x() + p.get_width() / 2., p.get_height()),\n",
        "                ha='center', va='center', fontsize=11, color='black', xytext=(0, 5),\n",
        "                textcoords='offset points')\n",
        "\n",
        "plt.tight_layout()\n",
        "plt.show()"
      ]
    },
    {
      "cell_type": "markdown",
      "id": "7c067033",
      "metadata": {},
      "source": [
        "As we can see Classes are perfectly disributed which is a good thing when training the model."
      ]
    },
    {
      "cell_type": "markdown",
      "id": "e4fcaa5c",
      "metadata": {},
      "source": [
        "2- Examining the Text Length Distributions."
      ]
    },
    {
      "cell_type": "code",
      "execution_count": 17,
      "id": "3be91bee",
      "metadata": {
        "colab": {
          "base_uri": "https://localhost:8080/",
          "height": 607
        },
        "id": "3be91bee",
        "outputId": "f33d0ee4-f59e-46e6-b541-0fd4d554fb94"
      },
      "outputs": [
        {
          "data": {
            "image/png": "[encoded data removed]",
            "text/plain": [
              "<Figure size 800x600 with 1 Axes>"
            ]
          },
          "metadata": {},
          "output_type": "display_data"
        }
      ],
      "source": [
        "# Calculate text length\n",
        "train_df['text_length'] = train_df['text'].apply(lambda x: len(x.split()))\n",
        "\n",
        "# Plot: Text Length Distribution\n",
        "plt.figure(figsize=(8, 6))\n",
        "sns.histplot(train_df['text_length'], bins=30, kde=False, color='skyblue')\n",
        "plt.title('Text Length Distribution in Training Set', fontsize=14)\n",
        "plt.xlabel('Number of Words in Text', fontsize=12)\n",
        "plt.ylabel('Number of Samples', fontsize=12)\n",
        "plt.grid(True, linestyle='--', alpha=0.5)\n",
        "plt.tight_layout()\n",
        "plt.show()\n"
      ]
    },
    {
      "cell_type": "markdown",
      "id": "fc570362",
      "metadata": {},
      "source": [
        "As we can see, The mode of this train data is 45 words Length. "
      ]
    },
    {
      "cell_type": "markdown",
      "id": "c9f1599b",
      "metadata": {},
      "source": [
        "Choosing tokenizer as Bert Base Uncased as asked."
      ]
    },
    {
      "cell_type": "code",
      "execution_count": null,
      "id": "c6da43fe",
      "metadata": {
        "colab": {
          "base_uri": "https://localhost:8080/",
          "height": 269,
          "referenced_widgets": [
            "5981559fe271447ea8e89d582e4451f2",
            "98fe8ae21a82444eab10db6f77db77e6",
            "3cc3cd56ad974343b53a7899d21ff2fc",
            "e885039ab7e94af8868002bdbe0ac0b5",
            "f9506dac03514dcfb7da7d8ddfa51edb",
            "667e7380cff3423b980479c2d879ed02",
            "e055d8ce137e4353aff588247cefc329",
            "3452e0ee6a9b4af8a84fa3d1c56de5c0",
            "30fa529cb88043b991c47dae3e134a91",
            "e9bfa520c81f4380929201b83aaa1522",
            "33f3b5e2e9e1476eb096c7f7343a1b6f",
            "dd9a9f71b33d4d6a954ef16b3cb3525d",
            "65badfafdf1642458fc1c08ff65cfce0",
            "c7a2d2b15b24400b93b0fbf4ed99c4f2",
            "e8a89c80faf541308235bb99dcb854e5",
            "aca06ba407004a2699a69247c7bedcd7",
            "4d67da3f27d94a6ab1cfbf8882e834fe",
            "a671dfccc78e4ac0a45e73ac07f1904a",
            "40fd42a206a5413f8f686db39e9f9189",
            "189eb26d2c8d49b2b2916a01568fbac5",
            "27bd20b979584dfaa105082fb683fe0d",
            "2106754f81c7495e9664af8634c87362",
            "4e89511b746f44fe89bb7d84c1130943",
            "9a43c2a7ad2749ca89abc3b6d32a17b2",
            "f569496750284332b4cb072116efb41b",
            "583e74483bc44e91b017a2483d0dc31c",
            "839dd975ac6a4e618cdea7aa8c090a6e",
            "7e9bd75794914f2b8211998f4a37cde7",
            "efb3622a5f174514bb3a1e513ee6d598",
            "4bd3085f82b84be58a02a45c95929e67",
            "42a4e75a52284754a2aa155f70fc55b7",
            "2108e65f2d25462db888c9d09be03ba5",
            "d9e0c178a1504661ac9ec1e11ee4ec72",
            "c611abf19a764f528365c13a62e2afe7",
            "9b503f08ac954b0cb10c0898cffbf8d2",
            "bb3a5993379b494ba466a4363f2a0ca5",
            "5f7f5bcb4bad4e27ad1a29403833e331",
            "d1eeebd81a094663bf5d888d6cb57cf0",
            "dbf387efd4be46b2aaa9c2a46c711844",
            "5df6015dc8bc498d87a01e01e80ae3e1",
            "e47c0c586db842a2ae53bbd3c32ca015",
            "11bc2df30b68450dacda71f962766969",
            "b7b3c2872ae94a3588025badf30852b8",
            "ae5dcf4e001547bbb7b2385496bcefab"
          ]
        },
        "id": "c6da43fe",
        "outputId": "4b88260a-81a0-468d-9691-d8142f5dd914"
      },
      "outputs": [],
      "source": [
        "tokenizer = BertTokenizer.from_pretrained('bert-base-uncased')"
      ]
    },
    {
      "cell_type": "markdown",
      "id": "c2c742ff",
      "metadata": {},
      "source": [
        "Tokenizing the Train data with previously defined tokenizer."
      ]
    },
    {
      "cell_type": "code",
      "execution_count": null,
      "id": "6a055962",
      "metadata": {
        "id": "6a055962"
      },
      "outputs": [],
      "source": [
        "# Tokenize the Train set\n",
        "train_encodings = tokenizer(\n",
        "    train_df['text'].tolist(),\n",
        "    truncation=True,\n",
        "    padding=True,\n",
        "    max_length=256,\n",
        "    return_tensors='pt'\n",
        ")"
      ]
    },
    {
      "cell_type": "markdown",
      "id": "4b5b878d",
      "metadata": {},
      "source": [
        "Preaparing the dataset and labels, Also using the DataLoader with 32 Batch Size."
      ]
    },
    {
      "cell_type": "code",
      "execution_count": null,
      "id": "c97b669e",
      "metadata": {
        "id": "c97b669e"
      },
      "outputs": [],
      "source": [
        "\n",
        "# Convert labels to tensor\n",
        "train_labels = torch.tensor(train_df['label'].tolist())\n",
        "\n",
        "# Create TensorDataset \n",
        "train_dataset = TensorDataset(\n",
        "    train_encodings['input_ids'],\n",
        "    train_encodings['attention_mask'],\n",
        "    train_labels\n",
        ")\n",
        "\n",
        "# DataLoader\n",
        "train_loader = DataLoader(train_dataset, batch_size=32, shuffle=True)"
      ]
    },
    {
      "cell_type": "markdown",
      "id": "4f9be9f8",
      "metadata": {},
      "source": [
        "-Fine-Tuning BERT with Different Learning Rates(Hyperparameters Training)\n",
        "\n",
        "In this section, we fine-tune the BERT Base Uncased model using three different learning rates: 1e-5, 2e-5, and 5e-5. For each learning rate, the model trained for 5 epochs on the training set. During training, we monitor the loss and optimize the model parameters using the AdamW optimizer. After each training run, the model and tokenizer are saved in separate directories for later evaluation and comparison.\n",
        "\n",
        "Note: I trained the model with SGD, not AdamW, and the first time I trained it it gave high losses, so I removed the SGD optimizer as a parameter to try it out."
      ]
    },
    {
      "cell_type": "code",
      "execution_count": null,
      "id": "xlRJr_AN8qwB",
      "metadata": {
        "colab": {
          "base_uri": "https://localhost:8080/"
        },
        "id": "xlRJr_AN8qwB",
        "outputId": "fac819bf-8632-43b8-d9fc-9ace8b9bd9e2"
      },
      "outputs": [
        {
          "name": "stdout",
          "output_type": "stream",
          "text": [
            "============================================================\n",
            "Training with learning rate = 1e-05\n",
            "============================================================\n"
          ]
        },
        {
          "name": "stderr",
          "output_type": "stream",
          "text": [
            "Some weights of BertForSequenceClassification were not initialized from the model checkpoint at bert-base-uncased and are newly initialized: ['classifier.bias', 'classifier.weight']\n",
            "You should probably TRAIN this model on a down-stream task to be able to use it for predictions and inference.\n"
          ]
        },
        {
          "name": "stdout",
          "output_type": "stream",
          "text": [
            "Epoch 1/5\n"
          ]
        },
        {
          "name": "stderr",
          "output_type": "stream",
          "text": [
            "Epoch 1: 100%|██████████| 938/938 [21:31<00:00,  1.38s/it, loss=0.322]\n"
          ]
        },
        {
          "name": "stdout",
          "output_type": "stream",
          "text": [
            "Average training loss (lr=1e-05): 0.3042\n",
            "Epoch 2/5\n"
          ]
        },
        {
          "name": "stderr",
          "output_type": "stream",
          "text": [
            "Epoch 2: 100%|██████████| 938/938 [21:31<00:00,  1.38s/it, loss=0.384]\n"
          ]
        },
        {
          "name": "stdout",
          "output_type": "stream",
          "text": [
            "Average training loss (lr=1e-05): 0.1349\n",
            "Epoch 3/5\n"
          ]
        },
        {
          "name": "stderr",
          "output_type": "stream",
          "text": [
            "Epoch 3: 100%|██████████| 938/938 [21:31<00:00,  1.38s/it, loss=0.0254]\n"
          ]
        },
        {
          "name": "stdout",
          "output_type": "stream",
          "text": [
            "Average training loss (lr=1e-05): 0.0930\n",
            "Epoch 4/5\n"
          ]
        },
        {
          "name": "stderr",
          "output_type": "stream",
          "text": [
            "Epoch 4: 100%|██████████| 938/938 [21:32<00:00,  1.38s/it, loss=0.00156]\n"
          ]
        },
        {
          "name": "stdout",
          "output_type": "stream",
          "text": [
            "Average training loss (lr=1e-05): 0.0630\n",
            "Epoch 5/5\n"
          ]
        },
        {
          "name": "stderr",
          "output_type": "stream",
          "text": [
            "Epoch 5: 100%|██████████| 938/938 [21:32<00:00,  1.38s/it, loss=0.0568]\n"
          ]
        },
        {
          "name": "stdout",
          "output_type": "stream",
          "text": [
            "Average training loss (lr=1e-05): 0.0414\n",
            "============================================================\n",
            "Training with learning rate = 2e-05\n",
            "============================================================\n"
          ]
        },
        {
          "name": "stderr",
          "output_type": "stream",
          "text": [
            "Some weights of BertForSequenceClassification were not initialized from the model checkpoint at bert-base-uncased and are newly initialized: ['classifier.bias', 'classifier.weight']\n",
            "You should probably TRAIN this model on a down-stream task to be able to use it for predictions and inference.\n"
          ]
        },
        {
          "name": "stdout",
          "output_type": "stream",
          "text": [
            "Epoch 1/5\n"
          ]
        },
        {
          "name": "stderr",
          "output_type": "stream",
          "text": [
            "Epoch 1: 100%|██████████| 938/938 [21:31<00:00,  1.38s/it, loss=0.115]\n"
          ]
        },
        {
          "name": "stdout",
          "output_type": "stream",
          "text": [
            "Average training loss (lr=2e-05): 0.2469\n",
            "Epoch 2/5\n"
          ]
        },
        {
          "name": "stderr",
          "output_type": "stream",
          "text": [
            "Epoch 2: 100%|██████████| 938/938 [21:31<00:00,  1.38s/it, loss=0.058]\n"
          ]
        },
        {
          "name": "stdout",
          "output_type": "stream",
          "text": [
            "Average training loss (lr=2e-05): 0.1150\n",
            "Epoch 3/5\n"
          ]
        },
        {
          "name": "stderr",
          "output_type": "stream",
          "text": [
            "Epoch 3: 100%|██████████| 938/938 [21:31<00:00,  1.38s/it, loss=0.0651]\n"
          ]
        },
        {
          "name": "stdout",
          "output_type": "stream",
          "text": [
            "Average training loss (lr=2e-05): 0.0738\n",
            "Epoch 4/5\n"
          ]
        },
        {
          "name": "stderr",
          "output_type": "stream",
          "text": [
            "Epoch 4: 100%|██████████| 938/938 [21:31<00:00,  1.38s/it, loss=0.00553]\n"
          ]
        },
        {
          "name": "stdout",
          "output_type": "stream",
          "text": [
            "Average training loss (lr=2e-05): 0.0448\n",
            "Epoch 5/5\n"
          ]
        },
        {
          "name": "stderr",
          "output_type": "stream",
          "text": [
            "Epoch 5: 100%|██████████| 938/938 [21:31<00:00,  1.38s/it, loss=0.00111]\n"
          ]
        },
        {
          "name": "stdout",
          "output_type": "stream",
          "text": [
            "Average training loss (lr=2e-05): 0.0297\n",
            "============================================================\n",
            "Training with learning rate = 5e-05\n",
            "============================================================\n"
          ]
        },
        {
          "name": "stderr",
          "output_type": "stream",
          "text": [
            "Some weights of BertForSequenceClassification were not initialized from the model checkpoint at bert-base-uncased and are newly initialized: ['classifier.bias', 'classifier.weight']\n",
            "You should probably TRAIN this model on a down-stream task to be able to use it for predictions and inference.\n"
          ]
        },
        {
          "name": "stdout",
          "output_type": "stream",
          "text": [
            "Epoch 1/5\n"
          ]
        },
        {
          "name": "stderr",
          "output_type": "stream",
          "text": [
            "Epoch 1: 100%|██████████| 938/938 [21:31<00:00,  1.38s/it, loss=0.138]\n"
          ]
        },
        {
          "name": "stdout",
          "output_type": "stream",
          "text": [
            "Average training loss (lr=5e-05): 0.2332\n",
            "Epoch 2/5\n"
          ]
        },
        {
          "name": "stderr",
          "output_type": "stream",
          "text": [
            "Epoch 2: 100%|██████████| 938/938 [21:32<00:00,  1.38s/it, loss=0.0315]\n"
          ]
        },
        {
          "name": "stdout",
          "output_type": "stream",
          "text": [
            "Average training loss (lr=5e-05): 0.1204\n",
            "Epoch 3/5\n"
          ]
        },
        {
          "name": "stderr",
          "output_type": "stream",
          "text": [
            "Epoch 3: 100%|██████████| 938/938 [21:32<00:00,  1.38s/it, loss=0.412]\n"
          ]
        },
        {
          "name": "stdout",
          "output_type": "stream",
          "text": [
            "Average training loss (lr=5e-05): 0.0797\n",
            "Epoch 4/5\n"
          ]
        },
        {
          "name": "stderr",
          "output_type": "stream",
          "text": [
            "Epoch 4: 100%|██████████| 938/938 [21:31<00:00,  1.38s/it, loss=0.0157]\n"
          ]
        },
        {
          "name": "stdout",
          "output_type": "stream",
          "text": [
            "Average training loss (lr=5e-05): 0.0496\n",
            "Epoch 5/5\n"
          ]
        },
        {
          "name": "stderr",
          "output_type": "stream",
          "text": [
            "Epoch 5: 100%|██████████| 938/938 [21:31<00:00,  1.38s/it, loss=0.0806]\n"
          ]
        },
        {
          "name": "stdout",
          "output_type": "stream",
          "text": [
            "Average training loss (lr=5e-05): 0.0410\n"
          ]
        }
      ],
      "source": [
        "\n",
        "learning_rates = [1e-5, 2e-5, 5e-5]\n",
        "epochs = 5\n",
        "\n",
        "for lr in learning_rates:\n",
        "    print(\"=\"*60)\n",
        "    print(f\"Training with learning rate = {lr}\")\n",
        "    print(\"=\"*60)\n",
        "\n",
        "    # Load the model for every learning rate.\n",
        "    model = BertForSequenceClassification.from_pretrained('bert-base-uncased', num_labels=4)\n",
        "    model.to(device)\n",
        "\n",
        "    optimizer = AdamW(model.parameters(), lr=lr)\n",
        "\n",
        "    model.train()\n",
        "    for epoch in range(epochs):\n",
        "        print(f\"Epoch {epoch+1}/{epochs}\")\n",
        "        total_loss = 0\n",
        "        loop = tqdm(train_loader, leave=True)\n",
        "        for batch in loop:\n",
        "            input_ids, attention_mask, labels = [b.to(device) for b in batch]\n",
        "\n",
        "            outputs = model(input_ids=input_ids, attention_mask=attention_mask, labels=labels)\n",
        "            loss = outputs.loss\n",
        "            total_loss += loss.item()\n",
        "\n",
        "            loss.backward()\n",
        "            optimizer.step()\n",
        "            optimizer.zero_grad()\n",
        "\n",
        "            loop.set_description(f\"Epoch {epoch+1}\")\n",
        "            loop.set_postfix(loss=loss.item())\n",
        "\n",
        "        print(f\"Average training loss (lr={lr}): {total_loss / len(train_loader):.4f}\")\n",
        "\n",
        "    # Save the model.\n",
        "    model_dir = f\"bert_model_lr_{str(lr).replace('.', '')}\"\n",
        "    model.save_pretrained(model_dir)\n",
        "    tokenizer.save_pretrained(model_dir)"
      ]
    },
    {
      "cell_type": "markdown",
      "id": "0e3492bb",
      "metadata": {},
      "source": [
        "Raw texts and labels are extracted from test_df. The texts are then tokenized using the same BERT tokenizer with truncation and padding enabled, ensuring that each sequence has a maximum length of 256 tokens. The resulting tokenized inputs are converted into PyTorch tensors and wrapped in a TensorDataset, which is then loaded into a DataLoader with a batch size of 32."
      ]
    },
    {
      "cell_type": "code",
      "execution_count": null,
      "id": "gMIk7-_IDXq_",
      "metadata": {
        "id": "gMIk7-_IDXq_"
      },
      "outputs": [],
      "source": [
        "# Encoding the test set\n",
        "test_texts = test_df['text'].tolist()\n",
        "test_labels = test_df['label'].tolist()\n",
        "test_encodings = tokenizer(\n",
        "    test_texts,\n",
        "    truncation=True,\n",
        "    padding=True,\n",
        "    max_length=256,\n",
        "    return_tensors='pt'\n",
        ")\n",
        "\n",
        "test_dataset = TensorDataset(test_encodings['input_ids'], test_encodings['attention_mask'])\n",
        "test_loader = DataLoader(test_dataset, batch_size=32)\n"
      ]
    },
    {
      "cell_type": "markdown",
      "id": "ff39db91",
      "metadata": {},
      "source": [
        "### Evaluating Results.\n",
        "\n",
        "For each learning rate, the corresponding trained model and tokenizer are loaded from Google Drive. The model is used to make predictions on the test set in evaluation mode. Predictions are collected in batches and converted to NumPy arrays. The macro-averaged F1 score is computed and stored in a dictionary for later comparison. Additionally, the first 5 test samples are printed along with their true and predicted labels to illustrate the model’s behavior."
      ]
    },
    {
      "cell_type": "code",
      "execution_count": null,
      "id": "bKXNmOtmDa3U",
      "metadata": {
        "colab": {
          "base_uri": "https://localhost:8080/"
        },
        "id": "bKXNmOtmDa3U",
        "outputId": "57c88e51-792a-4863-aa56-aa55e5ba60f4"
      },
      "outputs": [
        {
          "name": "stdout",
          "output_type": "stream",
          "text": [
            "\n",
            "============================================================\n",
            "Evaluating model with learning rate = 1e-05\n",
            "============================================================\n",
            "\n",
            "Macro F1 Score on Test Set (lr=1e-05): 0.9267\n",
            "              precision    recall  f1-score   support\n",
            "\n",
            "           0       0.95      0.92      0.94      1900\n",
            "           1       0.97      0.99      0.98      1900\n",
            "           2       0.89      0.90      0.89      1900\n",
            "           3       0.90      0.90      0.90      1900\n",
            "\n",
            "    accuracy                           0.93      7600\n",
            "   macro avg       0.93      0.93      0.93      7600\n",
            "weighted avg       0.93      0.93      0.93      7600\n",
            "\n",
            "Sample 1\n",
            "Text: Fan v Fan: Manchester City-Tottenham Hotspur This weekend Manchester City entertain Spurs, and with last seasons seven-goal FA Cup epic between the two teams still fresh in the memory, entertain could be the operative word.\n",
            "True Label: 1, Predicted Label: 1\n",
            "--------------------------------------------------\n",
            "Sample 2\n",
            "Text: Paris Tourists Search for Key to 'Da Vinci Code' (Reuters) Reuters - A funny thing happened on the way to the\\Mona Lisa. Visitors to the Louvre museum in Paris, home of the\\world's most famous painting, started quizzing tour guides\\about Dan Brown's best-selling novel \"The Da Vinci Code.\"\n",
            "True Label: 0, Predicted Label: 3\n",
            "--------------------------------------------------\n",
            "Sample 3\n",
            "Text: Net firms: Don't tax VoIP The Spanish-American War is over and a \"temporary\" tax created to pay for it should not be extended to Internet phone calls, industry groups tell the IRS\n",
            "True Label: 3, Predicted Label: 3\n",
            "--------------------------------------------------\n",
            "Sample 4\n",
            "Text: Dependent species risk extinction The global extinction crisis is worse than thought, because thousands of  quot;affiliated quot; species also at risk do not figure in calculations.\n",
            "True Label: 3, Predicted Label: 3\n",
            "--------------------------------------------------\n",
            "Sample 5\n",
            "Text: EDS Is Charter Member of Siebel BPO Alliance (NewsFactor) NewsFactor - Siebel Systems (Nasdaq: SEBL) has named EDS as the charter partner in Siebels' new business process outsourcing (BPO) global strategic-alliance program. The agreement expands the relationship between EDS and Siebel to provide a set of high-value managed products and service offerings targeted at the BPO and customer relationship management (CRM) marketplaces.\n",
            "True Label: 3, Predicted Label: 3\n",
            "--------------------------------------------------\n",
            "\n",
            "============================================================\n",
            "Evaluating model with learning rate = 2e-05\n",
            "============================================================\n",
            "\n",
            "Macro F1 Score on Test Set (lr=2e-05): 0.9255\n",
            "              precision    recall  f1-score   support\n",
            "\n",
            "           0       0.98      0.90      0.94      1900\n",
            "           1       0.98      0.98      0.98      1900\n",
            "           2       0.91      0.87      0.89      1900\n",
            "           3       0.85      0.95      0.90      1900\n",
            "\n",
            "    accuracy                           0.93      7600\n",
            "   macro avg       0.93      0.93      0.93      7600\n",
            "weighted avg       0.93      0.93      0.93      7600\n",
            "\n",
            "Sample 1\n",
            "Text: Fan v Fan: Manchester City-Tottenham Hotspur This weekend Manchester City entertain Spurs, and with last seasons seven-goal FA Cup epic between the two teams still fresh in the memory, entertain could be the operative word.\n",
            "True Label: 1, Predicted Label: 1\n",
            "--------------------------------------------------\n",
            "Sample 2\n",
            "Text: Paris Tourists Search for Key to 'Da Vinci Code' (Reuters) Reuters - A funny thing happened on the way to the\\Mona Lisa. Visitors to the Louvre museum in Paris, home of the\\world's most famous painting, started quizzing tour guides\\about Dan Brown's best-selling novel \"The Da Vinci Code.\"\n",
            "True Label: 0, Predicted Label: 3\n",
            "--------------------------------------------------\n",
            "Sample 3\n",
            "Text: Net firms: Don't tax VoIP The Spanish-American War is over and a \"temporary\" tax created to pay for it should not be extended to Internet phone calls, industry groups tell the IRS\n",
            "True Label: 3, Predicted Label: 3\n",
            "--------------------------------------------------\n",
            "Sample 4\n",
            "Text: Dependent species risk extinction The global extinction crisis is worse than thought, because thousands of  quot;affiliated quot; species also at risk do not figure in calculations.\n",
            "True Label: 3, Predicted Label: 3\n",
            "--------------------------------------------------\n",
            "Sample 5\n",
            "Text: EDS Is Charter Member of Siebel BPO Alliance (NewsFactor) NewsFactor - Siebel Systems (Nasdaq: SEBL) has named EDS as the charter partner in Siebels' new business process outsourcing (BPO) global strategic-alliance program. The agreement expands the relationship between EDS and Siebel to provide a set of high-value managed products and service offerings targeted at the BPO and customer relationship management (CRM) marketplaces.\n",
            "True Label: 3, Predicted Label: 3\n",
            "--------------------------------------------------\n",
            "\n",
            "============================================================\n",
            "Evaluating model with learning rate = 5e-05\n",
            "============================================================\n",
            "\n",
            "Macro F1 Score on Test Set (lr=5e-05): 0.9239\n",
            "              precision    recall  f1-score   support\n",
            "\n",
            "           0       0.95      0.93      0.94      1900\n",
            "           1       0.97      0.98      0.98      1900\n",
            "           2       0.88      0.90      0.89      1900\n",
            "           3       0.90      0.88      0.89      1900\n",
            "\n",
            "    accuracy                           0.92      7600\n",
            "   macro avg       0.92      0.92      0.92      7600\n",
            "weighted avg       0.92      0.92      0.92      7600\n",
            "\n",
            "Sample 1\n",
            "Text: Fan v Fan: Manchester City-Tottenham Hotspur This weekend Manchester City entertain Spurs, and with last seasons seven-goal FA Cup epic between the two teams still fresh in the memory, entertain could be the operative word.\n",
            "True Label: 1, Predicted Label: 1\n",
            "--------------------------------------------------\n",
            "Sample 2\n",
            "Text: Paris Tourists Search for Key to 'Da Vinci Code' (Reuters) Reuters - A funny thing happened on the way to the\\Mona Lisa. Visitors to the Louvre museum in Paris, home of the\\world's most famous painting, started quizzing tour guides\\about Dan Brown's best-selling novel \"The Da Vinci Code.\"\n",
            "True Label: 0, Predicted Label: 3\n",
            "--------------------------------------------------\n",
            "Sample 3\n",
            "Text: Net firms: Don't tax VoIP The Spanish-American War is over and a \"temporary\" tax created to pay for it should not be extended to Internet phone calls, industry groups tell the IRS\n",
            "True Label: 3, Predicted Label: 3\n",
            "--------------------------------------------------\n",
            "Sample 4\n",
            "Text: Dependent species risk extinction The global extinction crisis is worse than thought, because thousands of  quot;affiliated quot; species also at risk do not figure in calculations.\n",
            "True Label: 3, Predicted Label: 3\n",
            "--------------------------------------------------\n",
            "Sample 5\n",
            "Text: EDS Is Charter Member of Siebel BPO Alliance (NewsFactor) NewsFactor - Siebel Systems (Nasdaq: SEBL) has named EDS as the charter partner in Siebels' new business process outsourcing (BPO) global strategic-alliance program. The agreement expands the relationship between EDS and Siebel to provide a set of high-value managed products and service offerings targeted at the BPO and customer relationship management (CRM) marketplaces.\n",
            "True Label: 3, Predicted Label: 3\n",
            "--------------------------------------------------\n"
          ]
        }
      ],
      "source": [
        "# Record the F1 scores for each learning rate\n",
        "f1_scores = {}\n",
        "\n",
        "for lr in learning_rates:\n",
        "    print(\"\\n\" + \"=\"*60)\n",
        "    print(f\"Evaluating model with learning rate = {lr}\")\n",
        "    print(\"=\"*60)\n",
        "\n",
        "    #  Load the trained model and the tokenizer\n",
        "    model_dir = f\"/content/drive/MyDrive/Colab Notebooks/bert_model_lr_{str(lr).replace('.', '')}\"\n",
        "    model = BertForSequenceClassification.from_pretrained(model_dir)\n",
        "    model.to(device)\n",
        "    model.eval()\n",
        "\n",
        "    preds = []\n",
        "\n",
        "    with torch.no_grad():\n",
        "        for batch in test_loader:\n",
        "            input_ids, attention_mask = [b.to(device) for b in batch]\n",
        "            outputs = model(input_ids=input_ids, attention_mask=attention_mask)\n",
        "            logits = outputs.logits\n",
        "            batch_preds = torch.argmax(logits, dim=1).cpu().numpy()\n",
        "            preds.extend(batch_preds)\n",
        "\n",
        "    preds = np.array(preds)\n",
        "    true_labels = np.array(test_labels)\n",
        "\n",
        "    f1 = f1_score(true_labels, preds, average='macro')\n",
        "    f1_scores[lr] = f1\n",
        "\n",
        "    print(f\"\\nMacro F1 Score on Test Set (lr={lr}): {f1:.4f}\")\n",
        "    print(classification_report(true_labels, preds))\n",
        "\n",
        "    # Print out the first 5 samples of predictions\n",
        "    for i in range(5):\n",
        "        print(f\"Sample {i+1}\")\n",
        "        print(f\"Text: {test_texts[i]}\")\n",
        "        print(f\"True Label: {true_labels[i]}, Predicted Label: {preds[i]}\")\n",
        "        print(\"-\" * 50)\n"
      ]
    },
    {
      "cell_type": "markdown",
      "id": "6cee39d5",
      "metadata": {},
      "source": [
        "Final F1 scores."
      ]
    },
    {
      "cell_type": "code",
      "execution_count": null,
      "id": "XmE-fTkdDcbi",
      "metadata": {
        "colab": {
          "base_uri": "https://localhost:8080/"
        },
        "id": "XmE-fTkdDcbi",
        "outputId": "529213f1-01c0-4d3b-e854-e9034e915697"
      },
      "outputs": [
        {
          "name": "stdout",
          "output_type": "stream",
          "text": [
            "\n",
            "=== F1 Score Summary Across Learning Rates ===\n",
            "Learning Rate 1e-05 : F1 Score = 0.9267\n",
            "Learning Rate 2e-05 : F1 Score = 0.9255\n",
            "Learning Rate 5e-05 : F1 Score = 0.9239\n"
          ]
        }
      ],
      "source": [
        "# F1 skore summary table\n",
        "print(\"\\n=== F1 Score Summary Across Learning Rates ===\")\n",
        "for lr, score in f1_scores.items():\n",
        "    print(f\"Learning Rate {lr:<6}: F1 Score = {score:.4f}\")"
      ]
    },
    {
      "cell_type": "markdown",
      "id": "7XTtgfKX4aiK",
      "metadata": {
        "id": "7XTtgfKX4aiK"
      },
      "source": [
        "# PART 2: Title and Well-Written Article Generation"
      ]
    },
    {
      "cell_type": "markdown",
      "id": "d1f238b4",
      "metadata": {},
      "source": [
        "The Gemini API key, model name, and API version are specified. The full request URL is constructed using these components. This URL is used to send requests to the Gemini 2.0 Flash model via the Google Generative Language API."
      ]
    },
    {
      "cell_type": "code",
      "execution_count": null,
      "id": "QNGxt9-24kz-",
      "metadata": {
        "id": "QNGxt9-24kz-"
      },
      "outputs": [],
      "source": [
        "API_KEY = \"ENTER_YOUR_API_KEY_HERE\"\n",
        "\n",
        "model_name = \"gemini-2.0-flash\"\n",
        "api_version = \"v1beta\"\n",
        "url = f\"https://generativelanguage.googleapis.com/{api_version}/models/{model_name}:generateContent?key={API_KEY}\"\n",
        "\n"
      ]
    },
    {
      "cell_type": "markdown",
      "id": "77e0a2d6",
      "metadata": {},
      "source": [
        "A structured prompt is defined to instruct the LLM to generate a title and a polished version of a given news article. The prompt enforces a specific output format to simplify parsing. The prompt is sent as a POST request to the Gemini API endpoint. If the response is successful, the generated text is extracted and returned. If an error occurs, it is printed and None is returned."
      ]
    },
    {
      "cell_type": "code",
      "execution_count": null,
      "id": "8Ja8zauc6Tqf",
      "metadata": {
        "id": "8Ja8zauc6Tqf"
      },
      "outputs": [],
      "source": [
        "# Hocam I took this prompt from AI. Because JSON format should be true.\n",
        "\n",
        "def generate_title_and_polished_article(text):\n",
        "    prompt = {\n",
        "        \"contents\": [\n",
        "            {\n",
        "                \"parts\": [\n",
        "                    {\n",
        "                        \"text\": f\"\"\"\n",
        "You are an AI editor. Given the following raw news article, generate:\n",
        "\n",
        "1. A short and clear title.\n",
        "2. A polished, professionally rewritten version of the article.\n",
        "\n",
        "Return the result in this format exactly:\n",
        "Title: <title here>\n",
        "Article: <polished article here>\n",
        "\n",
        "ARTICLE:\n",
        "{text}\n",
        "                        \"\"\"\n",
        "                    }\n",
        "                ]\n",
        "            }\n",
        "        ]\n",
        "    }\n",
        "\n",
        "    response = requests.post(url, json=prompt)\n",
        "    result = response.json()\n",
        "\n",
        "    try:\n",
        "        text_response = result['candidates'][0]['content']['parts'][0]['text']\n",
        "        return text_response\n",
        "    except:\n",
        "        print(\"Error in response:\", result)\n",
        "        return None\n"
      ]
    },
    {
      "cell_type": "markdown",
      "id": "06cd7ec9",
      "metadata": {},
      "source": [
        "Example Result. As it can be seen, Gemini API correctly creates the title."
      ]
    },
    {
      "cell_type": "code",
      "execution_count": 32,
      "id": "3xzFzidq6XbD",
      "metadata": {
        "colab": {
          "base_uri": "https://localhost:8080/"
        },
        "id": "3xzFzidq6XbD",
        "outputId": "b5375ee7-f117-4ef1-c647-88ed4f2fc1a8"
      },
      "outputs": [
        {
          "name": "stdout",
          "output_type": "stream",
          "text": [
            "Title: US Strikes Zarqawi Network in Fallujah\n",
            "\n",
            "Article: U.S. forces launched a series of strikes against Abu Musab al-Zarqawi's terror network in Fallujah on Saturday, utilizing warplanes, tanks, and artillery. The operation occurred amidst efforts by two British Muslim leaders who arrived in Baghdad seeking the release of a British hostage believed to be held by Zarqawi's group. Reports indicate that 15 individuals were killed in the U.S. offensive.\n",
            "\n"
          ]
        }
      ],
      "source": [
        "sample_text = train_df['text'].iloc[0]\n",
        "response = generate_title_and_polished_article(sample_text)\n",
        "print(response)\n"
      ]
    },
    {
      "cell_type": "markdown",
      "id": "IjdVbc8LVnHO",
      "metadata": {
        "id": "IjdVbc8LVnHO"
      },
      "source": [
        "# Part 3: Combining 2 Tasks"
      ]
    },
    {
      "cell_type": "markdown",
      "id": "0c61f0ba",
      "metadata": {},
      "source": [
        "A dictionary is defined to map numeric class labels to their corresponding category names. An empty list is initialized to store the final output dictionaries containing the category, title, and polished article for each sample."
      ]
    },
    {
      "cell_type": "code",
      "execution_count": 33,
      "id": "f4BUy_8vDb4J",
      "metadata": {
        "id": "f4BUy_8vDb4J"
      },
      "outputs": [],
      "source": [
        "category_map = {\n",
        "    0: \"World\",\n",
        "    1: \"Sports\",\n",
        "    2: \"Business\",\n",
        "    3: \"Sci/Tech\"\n",
        "}\n",
        "\n",
        "results = []\n"
      ]
    },
    {
      "cell_type": "markdown",
      "id": "c33dd09a",
      "metadata": {},
      "source": [
        "The last five articles from the training set are selected as specified. These samples are tokenized using the BERT tokenizer with truncation and padding applied. The resulting tensors are transferred to the appropriate device (CPU or GPU) for inference."
      ]
    },
    {
      "cell_type": "code",
      "execution_count": null,
      "id": "MCt1tkzWDgNT",
      "metadata": {
        "id": "MCt1tkzWDgNT"
      },
      "outputs": [],
      "source": [
        "# Last 5 Articles from the training set as asked.\n",
        "sample_texts = train_df['text'].tail(5).tolist()\n",
        "\n",
        "# Tokenize and sent to the model\n",
        "sample_inputs = tokenizer(\n",
        "    sample_texts,\n",
        "    truncation=True,\n",
        "    padding=True,\n",
        "    max_length=256,\n",
        "    return_tensors='pt'\n",
        ")\n",
        "\n",
        "sample_inputs = {k: v.to(device) for k, v in sample_inputs.items()}"
      ]
    },
    {
      "cell_type": "markdown",
      "id": "8cd9e68c",
      "metadata": {},
      "source": [
        "Extract the Required parts of the output with this parse_response function."
      ]
    },
    {
      "cell_type": "code",
      "execution_count": null,
      "id": "FPcwA_xkD5mr",
      "metadata": {
        "id": "FPcwA_xkD5mr"
      },
      "outputs": [],
      "source": [
        "def parse_response(text_response):\n",
        "    match = re.search(r\"Title:\\s*(.*?)\\n+Article:\\s*(.*)\", text_response, re.DOTALL)\n",
        "    if match:\n",
        "        return {\n",
        "            \"title\": match.group(1).strip(),\n",
        "            \"article\": match.group(2).strip()\n",
        "        }\n",
        "    else:\n",
        "        return {\"title\": None, \"article\": None}\n"
      ]
    },
    {
      "cell_type": "markdown",
      "id": "2dacba66",
      "metadata": {},
      "source": [
        "First, Load the best model and predict the categories with that pretrained model.\\\n",
        " Then, from using Gemini, request Title and Article, \\\n",
        " Lastly  parse it and store it in the result dictionary."
      ]
    },
    {
      "cell_type": "code",
      "execution_count": null,
      "id": "C2tuF6QPDhFr",
      "metadata": {
        "id": "C2tuF6QPDhFr"
      },
      "outputs": [],
      "source": [
        "# Predict the categories for the last 5 articles\n",
        "\n",
        "# But First, Load the best model (you can choose the one with the highest F1 score)\n",
        "model_dir = \"/content/drive/MyDrive/Colab Notebooks/bert_model_lr_1e5\"\n",
        "model = BertForSequenceClassification.from_pretrained(model_dir)\n",
        "tokenizer = BertTokenizer.from_pretrained(model_dir)\n",
        "model.to(device)\n",
        "model.eval()\n",
        "\n",
        "with torch.no_grad():\n",
        "    outputs = model(**sample_inputs)\n",
        "    logits = outputs.logits\n",
        "    preds = torch.argmax(logits, dim=1).cpu().tolist()\n",
        "\n",
        "# Pull title + article from Gemini for each instance\n",
        "for text, pred_label in zip(sample_texts, preds):\n",
        "    response_text = generate_title_and_polished_article(text)\n",
        "    parsed = parse_response(response_text)\n",
        "\n",
        "    result = {\n",
        "        \"category\": category_map[pred_label],\n",
        "        \"title\": parsed.get(\"title\"),\n",
        "        \"article\": parsed.get(\"article\")\n",
        "    }\n",
        "\n",
        "    results.append(result)"
      ]
    },
    {
      "cell_type": "markdown",
      "id": "bc3aa510",
      "metadata": {},
      "source": [
        "Print Out the Last 5 samples. in the correct format."
      ]
    },
    {
      "cell_type": "code",
      "execution_count": null,
      "id": "F4E5nCXeD-oM",
      "metadata": {
        "colab": {
          "base_uri": "https://localhost:8080/"
        },
        "id": "F4E5nCXeD-oM",
        "outputId": "05d7c8e7-f37c-4c28-89cf-f8bb61602c97"
      },
      "outputs": [
        {
          "name": "stdout",
          "output_type": "stream",
          "text": [
            "Sample 1\n",
            "{\n",
            "  \"category\": \"Sci/Tech\",\n",
            "  \"title\": \"Orangutans Azy and Indah Arrive at Education Center\",\n",
            "  \"article\": \"Azy and Indah, two orangutans, have arrived at the Education Center after a journey that included braving a hurricane. The pair were escorted to their new home in a procession befitting dignitaries, complete with a police escort and flashing lights.\"\n",
            "}\n",
            "------------------------------------------------------------\n",
            "Sample 2\n",
            "{\n",
            "  \"category\": \"World\",\n",
            "  \"title\": \"US Army Deserter Jenkins Arrives in Japan\",\n",
            "  \"article\": \"Robert Jenkins, a former U.S. Army soldier who deserted to North Korea nearly four decades ago, arrived in his wife's hometown on a remote island in northern Japan on Tuesday. He was met by cheering crowds and stated his intention to spend his \\\"remaining days\\\" there. Jenkins, originally from North Carolina, is expected to settle in Japan with his family.\"\n",
            "}\n",
            "------------------------------------------------------------\n",
            "Sample 3\n",
            "{\n",
            "  \"category\": \"World\",\n",
            "  \"title\": \"Supreme Court Weighs Constitutionality of Teenage Executions\",\n",
            "  \"article\": \"The Supreme Court is currently deliberating whether the execution of individuals who committed murder as juveniles aligns with evolving standards of decency, both nationally and internationally. The court's decision will determine if the United States stands apart from global norms by permitting the death penalty for offenders who were 16 or 17 years old at the time of their crimes. Currently, 19 states authorize capital punishment for this age group, and over 70 individuals convicted of murder as juveniles are awaiting execution.\"\n",
            "}\n",
            "------------------------------------------------------------\n",
            "Sample 4\n",
            "{\n",
            "  \"category\": \"Business\",\n",
            "  \"title\": \"Stocks End Flat as Microsoft Gains Offset Oil Price Drag\",\n",
            "  \"article\": \"U.S. stocks concluded Monday's trading session with minimal movement as investors took a breather after substantial market gains earlier this month. Declining oil prices exerted downward pressure on energy sector stocks, including Exxon Mobil Corp.\"\n",
            "}\n",
            "------------------------------------------------------------\n",
            "Sample 5\n",
            "{\n",
            "  \"category\": \"Sci/Tech\",\n",
            "  \"title\": \"Oracle Remains Cautious on PeopleSoft Acquisition\",\n",
            "  \"article\": \"Despite winning a key antitrust battle with the Justice Department regarding its proposed acquisition of PeopleSoft Inc., Oracle Corp. indicates the deal is not yet imminent.\"\n",
            "}\n",
            "------------------------------------------------------------\n"
          ]
        }
      ],
      "source": [
        "# Print the results.\n",
        "for i, res in enumerate(results, 1):\n",
        "    print(f\"Sample {i}\")\n",
        "    print(json.dumps(res, indent=2))\n",
        "    print(\"-\" * 60)"
      ]
    },
    {
      "cell_type": "markdown",
      "id": "607d597a",
      "metadata": {},
      "source": [
        "# Results:\n",
        "\n",
        "To assess the impact of different learning rates on model performance, three separate BERT fine-tuning experiments were conducted using learning rates of 1e-5, 2e-5, and 5e-5. Each model was trained for 5 epochs on the training set using the same architecture and optimizer settings. The only variable changed across runs was the learning rate.\n",
        "\n",
        "After training, the models were evaluated on a fixed test set using the macro-averaged F1 score, which equally weighs performance across all four classes. This metric provides a balanced view of classification quality, especially in multi-class settings.\n",
        "\n",
        "The following table summarizes the results:\n",
        "\n",
        "=== F1 Score Summary Across Learning Rates ===\\\n",
        "Learning Rate 1e-05 : F1 Score = 0.9267\\\n",
        "Learning Rate 2e-05 : F1 Score = 0.9255\\\n",
        "Learning Rate 5e-05 : F1 Score = 0.9239\n",
        "\n",
        "\n",
        "The best performance was achieved using a learning rate of 1e-5, with a macro F1 score of 0.9267. This model was selected for the final pipeline.\n",
        "\n",
        "In the final step, the last five articles from the training set were processed end-to-end. Each article was:\n",
        "\n",
        "- Tokenized and classified using the best-performing BERT model.\n",
        "- Passed to a Gemini LLM via API to generate a short and informative title.\n",
        "- Rewritten into a more polished article version using the same LLM.\n",
        "\n",
        "The final outputs were formatted as a list of dictionaries, with each dictionary containing the following keys:\n",
        "- \"category\": The predicted class label as a string (e.g., \"World\", \"Sports\").\n",
        "- \"title\": The generated article title.\n",
        "- \"article\": The rewritten, polished version of the article."
      ]
    }
  ],
  "metadata": {
    "accelerator": "GPU",
    "colab": {
      "gpuType": "T4",
      "machine_shape": "hm",
      "provenance": []
    },
    "kernelspec": {
      "display_name": "Python 3",
      "name": "python3"
    },
    "language_info": {
      "codemirror_mode": {
        "name": "ipython",
        "version": 3
      },
      "file_extension": ".py",
      "mimetype": "text/x-python",
      "name": "python",
      "nbconvert_exporter": "python",
      "pygments_lexer": "ipython3",
      "version": "3.10.11"
    },
    "widgets": {
      "application/vnd.jupyter.widget-state+json": {
        "11bc2df30b68450dacda71f962766969": {
          "model_module": "@jupyter-widgets/controls",
          "model_module_version": "1.5.0",
          "model_name": "ProgressStyleModel",
          "state": {
            "_model_module": "@jupyter-widgets/controls",
            "_model_module_version": "1.5.0",
            "_model_name": "ProgressStyleModel",
            "_view_count": null,
            "_view_module": "@jupyter-widgets/base",
            "_view_module_version": "1.2.0",
            "_view_name": "StyleView",
            "bar_color": null,
            "description_width": ""
          }
        },
        "189eb26d2c8d49b2b2916a01568fbac5": {
          "model_module": "@jupyter-widgets/controls",
          "model_module_version": "1.5.0",
          "model_name": "ProgressStyleModel",
          "state": {
            "_model_module": "@jupyter-widgets/controls",
            "_model_module_version": "1.5.0",
            "_model_name": "ProgressStyleModel",
            "_view_count": null,
            "_view_module": "@jupyter-widgets/base",
            "_view_module_version": "1.2.0",
            "_view_name": "StyleView",
            "bar_color": null,
            "description_width": ""
          }
        },
        "2106754f81c7495e9664af8634c87362": {
          "model_module": "@jupyter-widgets/controls",
          "model_module_version": "1.5.0",
          "model_name": "DescriptionStyleModel",
          "state": {
            "_model_module": "@jupyter-widgets/controls",
            "_model_module_version": "1.5.0",
            "_model_name": "DescriptionStyleModel",
            "_view_count": null,
            "_view_module": "@jupyter-widgets/base",
            "_view_module_version": "1.2.0",
            "_view_name": "StyleView",
            "description_width": ""
          }
        },
        "2108e65f2d25462db888c9d09be03ba5": {
          "model_module": "@jupyter-widgets/base",
          "model_module_version": "1.2.0",
          "model_name": "LayoutModel",
          "state": {
            "_model_module": "@jupyter-widgets/base",
            "_model_module_version": "1.2.0",
            "_model_name": "LayoutModel",
            "_view_count": null,
            "_view_module": "@jupyter-widgets/base",
            "_view_module_version": "1.2.0",
            "_view_name": "LayoutView",
            "align_content": null,
            "align_items": null,
            "align_self": null,
            "border": null,
            "bottom": null,
            "display": null,
            "flex": null,
            "flex_flow": null,
            "grid_area": null,
            "grid_auto_columns": null,
            "grid_auto_flow": null,
            "grid_auto_rows": null,
            "grid_column": null,
            "grid_gap": null,
            "grid_row": null,
            "grid_template_areas": null,
            "grid_template_columns": null,
            "grid_template_rows": null,
            "height": null,
            "justify_content": null,
            "justify_items": null,
            "left": null,
            "margin": null,
            "max_height": null,
            "max_width": null,
            "min_height": null,
            "min_width": null,
            "object_fit": null,
            "object_position": null,
            "order": null,
            "overflow": null,
            "overflow_x": null,
            "overflow_y": null,
            "padding": null,
            "right": null,
            "top": null,
            "visibility": null,
            "width": null
          }
        },
        "27bd20b979584dfaa105082fb683fe0d": {
          "model_module": "@jupyter-widgets/base",
          "model_module_version": "1.2.0",
          "model_name": "LayoutModel",
          "state": {
            "_model_module": "@jupyter-widgets/base",
            "_model_module_version": "1.2.0",
            "_model_name": "LayoutModel",
            "_view_count": null,
            "_view_module": "@jupyter-widgets/base",
            "_view_module_version": "1.2.0",
            "_view_name": "LayoutView",
            "align_content": null,
            "align_items": null,
            "align_self": null,
            "border": null,
            "bottom": null,
            "display": null,
            "flex": null,
            "flex_flow": null,
            "grid_area": null,
            "grid_auto_columns": null,
            "grid_auto_flow": null,
            "grid_auto_rows": null,
            "grid_column": null,
            "grid_gap": null,
            "grid_row": null,
            "grid_template_areas": null,
            "grid_template_columns": null,
            "grid_template_rows": null,
            "height": null,
            "justify_content": null,
            "justify_items": null,
            "left": null,
            "margin": null,
            "max_height": null,
            "max_width": null,
            "min_height": null,
            "min_width": null,
            "object_fit": null,
            "object_position": null,
            "order": null,
            "overflow": null,
            "overflow_x": null,
            "overflow_y": null,
            "padding": null,
            "right": null,
            "top": null,
            "visibility": null,
            "width": null
          }
        },
        "30fa529cb88043b991c47dae3e134a91": {
          "model_module": "@jupyter-widgets/controls",
          "model_module_version": "1.5.0",
          "model_name": "ProgressStyleModel",
          "state": {
            "_model_module": "@jupyter-widgets/controls",
            "_model_module_version": "1.5.0",
            "_model_name": "ProgressStyleModel",
            "_view_count": null,
            "_view_module": "@jupyter-widgets/base",
            "_view_module_version": "1.2.0",
            "_view_name": "StyleView",
            "bar_color": null,
            "description_width": ""
          }
        },
        "33f3b5e2e9e1476eb096c7f7343a1b6f": {
          "model_module": "@jupyter-widgets/controls",
          "model_module_version": "1.5.0",
          "model_name": "DescriptionStyleModel",
          "state": {
            "_model_module": "@jupyter-widgets/controls",
            "_model_module_version": "1.5.0",
            "_model_name": "DescriptionStyleModel",
            "_view_count": null,
            "_view_module": "@jupyter-widgets/base",
            "_view_module_version": "1.2.0",
            "_view_name": "StyleView",
            "description_width": ""
          }
        },
        "3452e0ee6a9b4af8a84fa3d1c56de5c0": {
          "model_module": "@jupyter-widgets/base",
          "model_module_version": "1.2.0",
          "model_name": "LayoutModel",
          "state": {
            "_model_module": "@jupyter-widgets/base",
            "_model_module_version": "1.2.0",
            "_model_name": "LayoutModel",
            "_view_count": null,
            "_view_module": "@jupyter-widgets/base",
            "_view_module_version": "1.2.0",
            "_view_name": "LayoutView",
            "align_content": null,
            "align_items": null,
            "align_self": null,
            "border": null,
            "bottom": null,
            "display": null,
            "flex": null,
            "flex_flow": null,
            "grid_area": null,
            "grid_auto_columns": null,
            "grid_auto_flow": null,
            "grid_auto_rows": null,
            "grid_column": null,
            "grid_gap": null,
            "grid_row": null,
            "grid_template_areas": null,
            "grid_template_columns": null,
            "grid_template_rows": null,
            "height": null,
            "justify_content": null,
            "justify_items": null,
            "left": null,
            "margin": null,
            "max_height": null,
            "max_width": null,
            "min_height": null,
            "min_width": null,
            "object_fit": null,
            "object_position": null,
            "order": null,
            "overflow": null,
            "overflow_x": null,
            "overflow_y": null,
            "padding": null,
            "right": null,
            "top": null,
            "visibility": null,
            "width": null
          }
        },
        "3cc3cd56ad974343b53a7899d21ff2fc": {
          "model_module": "@jupyter-widgets/controls",
          "model_module_version": "1.5.0",
          "model_name": "FloatProgressModel",
          "state": {
            "_dom_classes": [],
            "_model_module": "@jupyter-widgets/controls",
            "_model_module_version": "1.5.0",
            "_model_name": "FloatProgressModel",
            "_view_count": null,
            "_view_module": "@jupyter-widgets/controls",
            "_view_module_version": "1.5.0",
            "_view_name": "ProgressView",
            "bar_style": "success",
            "description": "",
            "description_tooltip": null,
            "layout": "IPY_MODEL_3452e0ee6a9b4af8a84fa3d1c56de5c0",
            "max": 48,
            "min": 0,
            "orientation": "horizontal",
            "style": "IPY_MODEL_30fa529cb88043b991c47dae3e134a91",
            "value": 48
          }
        },
        "40fd42a206a5413f8f686db39e9f9189": {
          "model_module": "@jupyter-widgets/base",
          "model_module_version": "1.2.0",
          "model_name": "LayoutModel",
          "state": {
            "_model_module": "@jupyter-widgets/base",
            "_model_module_version": "1.2.0",
            "_model_name": "LayoutModel",
            "_view_count": null,
            "_view_module": "@jupyter-widgets/base",
            "_view_module_version": "1.2.0",
            "_view_name": "LayoutView",
            "align_content": null,
            "align_items": null,
            "align_self": null,
            "border": null,
            "bottom": null,
            "display": null,
            "flex": null,
            "flex_flow": null,
            "grid_area": null,
            "grid_auto_columns": null,
            "grid_auto_flow": null,
            "grid_auto_rows": null,
            "grid_column": null,
            "grid_gap": null,
            "grid_row": null,
            "grid_template_areas": null,
            "grid_template_columns": null,
            "grid_template_rows": null,
            "height": null,
            "justify_content": null,
            "justify_items": null,
            "left": null,
            "margin": null,
            "max_height": null,
            "max_width": null,
            "min_height": null,
            "min_width": null,
            "object_fit": null,
            "object_position": null,
            "order": null,
            "overflow": null,
            "overflow_x": null,
            "overflow_y": null,
            "padding": null,
            "right": null,
            "top": null,
            "visibility": null,
            "width": null
          }
        },
        "42a4e75a52284754a2aa155f70fc55b7": {
          "model_module": "@jupyter-widgets/controls",
          "model_module_version": "1.5.0",
          "model_name": "ProgressStyleModel",
          "state": {
            "_model_module": "@jupyter-widgets/controls",
            "_model_module_version": "1.5.0",
            "_model_name": "ProgressStyleModel",
            "_view_count": null,
            "_view_module": "@jupyter-widgets/base",
            "_view_module_version": "1.2.0",
            "_view_name": "StyleView",
            "bar_color": null,
            "description_width": ""
          }
        },
        "4bd3085f82b84be58a02a45c95929e67": {
          "model_module": "@jupyter-widgets/base",
          "model_module_version": "1.2.0",
          "model_name": "LayoutModel",
          "state": {
            "_model_module": "@jupyter-widgets/base",
            "_model_module_version": "1.2.0",
            "_model_name": "LayoutModel",
            "_view_count": null,
            "_view_module": "@jupyter-widgets/base",
            "_view_module_version": "1.2.0",
            "_view_name": "LayoutView",
            "align_content": null,
            "align_items": null,
            "align_self": null,
            "border": null,
            "bottom": null,
            "display": null,
            "flex": null,
            "flex_flow": null,
            "grid_area": null,
            "grid_auto_columns": null,
            "grid_auto_flow": null,
            "grid_auto_rows": null,
            "grid_column": null,
            "grid_gap": null,
            "grid_row": null,
            "grid_template_areas": null,
            "grid_template_columns": null,
            "grid_template_rows": null,
            "height": null,
            "justify_content": null,
            "justify_items": null,
            "left": null,
            "margin": null,
            "max_height": null,
            "max_width": null,
            "min_height": null,
            "min_width": null,
            "object_fit": null,
            "object_position": null,
            "order": null,
            "overflow": null,
            "overflow_x": null,
            "overflow_y": null,
            "padding": null,
            "right": null,
            "top": null,
            "visibility": null,
            "width": null
          }
        },
        "4d67da3f27d94a6ab1cfbf8882e834fe": {
          "model_module": "@jupyter-widgets/base",
          "model_module_version": "1.2.0",
          "model_name": "LayoutModel",
          "state": {
            "_model_module": "@jupyter-widgets/base",
            "_model_module_version": "1.2.0",
            "_model_name": "LayoutModel",
            "_view_count": null,
            "_view_module": "@jupyter-widgets/base",
            "_view_module_version": "1.2.0",
            "_view_name": "LayoutView",
            "align_content": null,
            "align_items": null,
            "align_self": null,
            "border": null,
            "bottom": null,
            "display": null,
            "flex": null,
            "flex_flow": null,
            "grid_area": null,
            "grid_auto_columns": null,
            "grid_auto_flow": null,
            "grid_auto_rows": null,
            "grid_column": null,
            "grid_gap": null,
            "grid_row": null,
            "grid_template_areas": null,
            "grid_template_columns": null,
            "grid_template_rows": null,
            "height": null,
            "justify_content": null,
            "justify_items": null,
            "left": null,
            "margin": null,
            "max_height": null,
            "max_width": null,
            "min_height": null,
            "min_width": null,
            "object_fit": null,
            "object_position": null,
            "order": null,
            "overflow": null,
            "overflow_x": null,
            "overflow_y": null,
            "padding": null,
            "right": null,
            "top": null,
            "visibility": null,
            "width": null
          }
        },
        "4e89511b746f44fe89bb7d84c1130943": {
          "model_module": "@jupyter-widgets/controls",
          "model_module_version": "1.5.0",
          "model_name": "HBoxModel",
          "state": {
            "_dom_classes": [],
            "_model_module": "@jupyter-widgets/controls",
            "_model_module_version": "1.5.0",
            "_model_name": "HBoxModel",
            "_view_count": null,
            "_view_module": "@jupyter-widgets/controls",
            "_view_module_version": "1.5.0",
            "_view_name": "HBoxView",
            "box_style": "",
            "children": [
              "IPY_MODEL_9a43c2a7ad2749ca89abc3b6d32a17b2",
              "IPY_MODEL_f569496750284332b4cb072116efb41b",
              "IPY_MODEL_583e74483bc44e91b017a2483d0dc31c"
            ],
            "layout": "IPY_MODEL_839dd975ac6a4e618cdea7aa8c090a6e"
          }
        },
        "583e74483bc44e91b017a2483d0dc31c": {
          "model_module": "@jupyter-widgets/controls",
          "model_module_version": "1.5.0",
          "model_name": "HTMLModel",
          "state": {
            "_dom_classes": [],
            "_model_module": "@jupyter-widgets/controls",
            "_model_module_version": "1.5.0",
            "_model_name": "HTMLModel",
            "_view_count": null,
            "_view_module": "@jupyter-widgets/controls",
            "_view_module_version": "1.5.0",
            "_view_name": "HTMLView",
            "description": "",
            "description_tooltip": null,
            "layout": "IPY_MODEL_2108e65f2d25462db888c9d09be03ba5",
            "placeholder": "​",
            "style": "IPY_MODEL_d9e0c178a1504661ac9ec1e11ee4ec72",
            "value": " 466k/466k [00:00&lt;00:00, 2.12MB/s]"
          }
        },
        "5981559fe271447ea8e89d582e4451f2": {
          "model_module": "@jupyter-widgets/controls",
          "model_module_version": "1.5.0",
          "model_name": "HBoxModel",
          "state": {
            "_dom_classes": [],
            "_model_module": "@jupyter-widgets/controls",
            "_model_module_version": "1.5.0",
            "_model_name": "HBoxModel",
            "_view_count": null,
            "_view_module": "@jupyter-widgets/controls",
            "_view_module_version": "1.5.0",
            "_view_name": "HBoxView",
            "box_style": "",
            "children": [
              "IPY_MODEL_98fe8ae21a82444eab10db6f77db77e6",
              "IPY_MODEL_3cc3cd56ad974343b53a7899d21ff2fc",
              "IPY_MODEL_e885039ab7e94af8868002bdbe0ac0b5"
            ],
            "layout": "IPY_MODEL_f9506dac03514dcfb7da7d8ddfa51edb"
          }
        },
        "5df6015dc8bc498d87a01e01e80ae3e1": {
          "model_module": "@jupyter-widgets/controls",
          "model_module_version": "1.5.0",
          "model_name": "DescriptionStyleModel",
          "state": {
            "_model_module": "@jupyter-widgets/controls",
            "_model_module_version": "1.5.0",
            "_model_name": "DescriptionStyleModel",
            "_view_count": null,
            "_view_module": "@jupyter-widgets/base",
            "_view_module_version": "1.2.0",
            "_view_name": "StyleView",
            "description_width": ""
          }
        },
        "5f7f5bcb4bad4e27ad1a29403833e331": {
          "model_module": "@jupyter-widgets/controls",
          "model_module_version": "1.5.0",
          "model_name": "HTMLModel",
          "state": {
            "_dom_classes": [],
            "_model_module": "@jupyter-widgets/controls",
            "_model_module_version": "1.5.0",
            "_model_name": "HTMLModel",
            "_view_count": null,
            "_view_module": "@jupyter-widgets/controls",
            "_view_module_version": "1.5.0",
            "_view_name": "HTMLView",
            "description": "",
            "description_tooltip": null,
            "layout": "IPY_MODEL_b7b3c2872ae94a3588025badf30852b8",
            "placeholder": "​",
            "style": "IPY_MODEL_ae5dcf4e001547bbb7b2385496bcefab",
            "value": " 570/570 [00:00&lt;00:00, 74.1kB/s]"
          }
        },
        "65badfafdf1642458fc1c08ff65cfce0": {
          "model_module": "@jupyter-widgets/controls",
          "model_module_version": "1.5.0",
          "model_name": "HTMLModel",
          "state": {
            "_dom_classes": [],
            "_model_module": "@jupyter-widgets/controls",
            "_model_module_version": "1.5.0",
            "_model_name": "HTMLModel",
            "_view_count": null,
            "_view_module": "@jupyter-widgets/controls",
            "_view_module_version": "1.5.0",
            "_view_name": "HTMLView",
            "description": "",
            "description_tooltip": null,
            "layout": "IPY_MODEL_4d67da3f27d94a6ab1cfbf8882e834fe",
            "placeholder": "​",
            "style": "IPY_MODEL_a671dfccc78e4ac0a45e73ac07f1904a",
            "value": "vocab.txt: 100%"
          }
        },
        "667e7380cff3423b980479c2d879ed02": {
          "model_module": "@jupyter-widgets/base",
          "model_module_version": "1.2.0",
          "model_name": "LayoutModel",
          "state": {
            "_model_module": "@jupyter-widgets/base",
            "_model_module_version": "1.2.0",
            "_model_name": "LayoutModel",
            "_view_count": null,
            "_view_module": "@jupyter-widgets/base",
            "_view_module_version": "1.2.0",
            "_view_name": "LayoutView",
            "align_content": null,
            "align_items": null,
            "align_self": null,
            "border": null,
            "bottom": null,
            "display": null,
            "flex": null,
            "flex_flow": null,
            "grid_area": null,
            "grid_auto_columns": null,
            "grid_auto_flow": null,
            "grid_auto_rows": null,
            "grid_column": null,
            "grid_gap": null,
            "grid_row": null,
            "grid_template_areas": null,
            "grid_template_columns": null,
            "grid_template_rows": null,
            "height": null,
            "justify_content": null,
            "justify_items": null,
            "left": null,
            "margin": null,
            "max_height": null,
            "max_width": null,
            "min_height": null,
            "min_width": null,
            "object_fit": null,
            "object_position": null,
            "order": null,
            "overflow": null,
            "overflow_x": null,
            "overflow_y": null,
            "padding": null,
            "right": null,
            "top": null,
            "visibility": null,
            "width": null
          }
        },
        "7e9bd75794914f2b8211998f4a37cde7": {
          "model_module": "@jupyter-widgets/base",
          "model_module_version": "1.2.0",
          "model_name": "LayoutModel",
          "state": {
            "_model_module": "@jupyter-widgets/base",
            "_model_module_version": "1.2.0",
            "_model_name": "LayoutModel",
            "_view_count": null,
            "_view_module": "@jupyter-widgets/base",
            "_view_module_version": "1.2.0",
            "_view_name": "LayoutView",
            "align_content": null,
            "align_items": null,
            "align_self": null,
            "border": null,
            "bottom": null,
            "display": null,
            "flex": null,
            "flex_flow": null,
            "grid_area": null,
            "grid_auto_columns": null,
            "grid_auto_flow": null,
            "grid_auto_rows": null,
            "grid_column": null,
            "grid_gap": null,
            "grid_row": null,
            "grid_template_areas": null,
            "grid_template_columns": null,
            "grid_template_rows": null,
            "height": null,
            "justify_content": null,
            "justify_items": null,
            "left": null,
            "margin": null,
            "max_height": null,
            "max_width": null,
            "min_height": null,
            "min_width": null,
            "object_fit": null,
            "object_position": null,
            "order": null,
            "overflow": null,
            "overflow_x": null,
            "overflow_y": null,
            "padding": null,
            "right": null,
            "top": null,
            "visibility": null,
            "width": null
          }
        },
        "839dd975ac6a4e618cdea7aa8c090a6e": {
          "model_module": "@jupyter-widgets/base",
          "model_module_version": "1.2.0",
          "model_name": "LayoutModel",
          "state": {
            "_model_module": "@jupyter-widgets/base",
            "_model_module_version": "1.2.0",
            "_model_name": "LayoutModel",
            "_view_count": null,
            "_view_module": "@jupyter-widgets/base",
            "_view_module_version": "1.2.0",
            "_view_name": "LayoutView",
            "align_content": null,
            "align_items": null,
            "align_self": null,
            "border": null,
            "bottom": null,
            "display": null,
            "flex": null,
            "flex_flow": null,
            "grid_area": null,
            "grid_auto_columns": null,
            "grid_auto_flow": null,
            "grid_auto_rows": null,
            "grid_column": null,
            "grid_gap": null,
            "grid_row": null,
            "grid_template_areas": null,
            "grid_template_columns": null,
            "grid_template_rows": null,
            "height": null,
            "justify_content": null,
            "justify_items": null,
            "left": null,
            "margin": null,
            "max_height": null,
            "max_width": null,
            "min_height": null,
            "min_width": null,
            "object_fit": null,
            "object_position": null,
            "order": null,
            "overflow": null,
            "overflow_x": null,
            "overflow_y": null,
            "padding": null,
            "right": null,
            "top": null,
            "visibility": null,
            "width": null
          }
        },
        "98fe8ae21a82444eab10db6f77db77e6": {
          "model_module": "@jupyter-widgets/controls",
          "model_module_version": "1.5.0",
          "model_name": "HTMLModel",
          "state": {
            "_dom_classes": [],
            "_model_module": "@jupyter-widgets/controls",
            "_model_module_version": "1.5.0",
            "_model_name": "HTMLModel",
            "_view_count": null,
            "_view_module": "@jupyter-widgets/controls",
            "_view_module_version": "1.5.0",
            "_view_name": "HTMLView",
            "description": "",
            "description_tooltip": null,
            "layout": "IPY_MODEL_667e7380cff3423b980479c2d879ed02",
            "placeholder": "​",
            "style": "IPY_MODEL_e055d8ce137e4353aff588247cefc329",
            "value": "tokenizer_config.json: 100%"
          }
        },
        "9a43c2a7ad2749ca89abc3b6d32a17b2": {
          "model_module": "@jupyter-widgets/controls",
          "model_module_version": "1.5.0",
          "model_name": "HTMLModel",
          "state": {
            "_dom_classes": [],
            "_model_module": "@jupyter-widgets/controls",
            "_model_module_version": "1.5.0",
            "_model_name": "HTMLModel",
            "_view_count": null,
            "_view_module": "@jupyter-widgets/controls",
            "_view_module_version": "1.5.0",
            "_view_name": "HTMLView",
            "description": "",
            "description_tooltip": null,
            "layout": "IPY_MODEL_7e9bd75794914f2b8211998f4a37cde7",
            "placeholder": "​",
            "style": "IPY_MODEL_efb3622a5f174514bb3a1e513ee6d598",
            "value": "tokenizer.json: 100%"
          }
        },
        "9b503f08ac954b0cb10c0898cffbf8d2": {
          "model_module": "@jupyter-widgets/controls",
          "model_module_version": "1.5.0",
          "model_name": "HTMLModel",
          "state": {
            "_dom_classes": [],
            "_model_module": "@jupyter-widgets/controls",
            "_model_module_version": "1.5.0",
            "_model_name": "HTMLModel",
            "_view_count": null,
            "_view_module": "@jupyter-widgets/controls",
            "_view_module_version": "1.5.0",
            "_view_name": "HTMLView",
            "description": "",
            "description_tooltip": null,
            "layout": "IPY_MODEL_dbf387efd4be46b2aaa9c2a46c711844",
            "placeholder": "​",
            "style": "IPY_MODEL_5df6015dc8bc498d87a01e01e80ae3e1",
            "value": "config.json: 100%"
          }
        },
        "a671dfccc78e4ac0a45e73ac07f1904a": {
          "model_module": "@jupyter-widgets/controls",
          "model_module_version": "1.5.0",
          "model_name": "DescriptionStyleModel",
          "state": {
            "_model_module": "@jupyter-widgets/controls",
            "_model_module_version": "1.5.0",
            "_model_name": "DescriptionStyleModel",
            "_view_count": null,
            "_view_module": "@jupyter-widgets/base",
            "_view_module_version": "1.2.0",
            "_view_name": "StyleView",
            "description_width": ""
          }
        },
        "aca06ba407004a2699a69247c7bedcd7": {
          "model_module": "@jupyter-widgets/base",
          "model_module_version": "1.2.0",
          "model_name": "LayoutModel",
          "state": {
            "_model_module": "@jupyter-widgets/base",
            "_model_module_version": "1.2.0",
            "_model_name": "LayoutModel",
            "_view_count": null,
            "_view_module": "@jupyter-widgets/base",
            "_view_module_version": "1.2.0",
            "_view_name": "LayoutView",
            "align_content": null,
            "align_items": null,
            "align_self": null,
            "border": null,
            "bottom": null,
            "display": null,
            "flex": null,
            "flex_flow": null,
            "grid_area": null,
            "grid_auto_columns": null,
            "grid_auto_flow": null,
            "grid_auto_rows": null,
            "grid_column": null,
            "grid_gap": null,
            "grid_row": null,
            "grid_template_areas": null,
            "grid_template_columns": null,
            "grid_template_rows": null,
            "height": null,
            "justify_content": null,
            "justify_items": null,
            "left": null,
            "margin": null,
            "max_height": null,
            "max_width": null,
            "min_height": null,
            "min_width": null,
            "object_fit": null,
            "object_position": null,
            "order": null,
            "overflow": null,
            "overflow_x": null,
            "overflow_y": null,
            "padding": null,
            "right": null,
            "top": null,
            "visibility": null,
            "width": null
          }
        },
        "ae5dcf4e001547bbb7b2385496bcefab": {
          "model_module": "@jupyter-widgets/controls",
          "model_module_version": "1.5.0",
          "model_name": "DescriptionStyleModel",
          "state": {
            "_model_module": "@jupyter-widgets/controls",
            "_model_module_version": "1.5.0",
            "_model_name": "DescriptionStyleModel",
            "_view_count": null,
            "_view_module": "@jupyter-widgets/base",
            "_view_module_version": "1.2.0",
            "_view_name": "StyleView",
            "description_width": ""
          }
        },
        "b7b3c2872ae94a3588025badf30852b8": {
          "model_module": "@jupyter-widgets/base",
          "model_module_version": "1.2.0",
          "model_name": "LayoutModel",
          "state": {
            "_model_module": "@jupyter-widgets/base",
            "_model_module_version": "1.2.0",
            "_model_name": "LayoutModel",
            "_view_count": null,
            "_view_module": "@jupyter-widgets/base",
            "_view_module_version": "1.2.0",
            "_view_name": "LayoutView",
            "align_content": null,
            "align_items": null,
            "align_self": null,
            "border": null,
            "bottom": null,
            "display": null,
            "flex": null,
            "flex_flow": null,
            "grid_area": null,
            "grid_auto_columns": null,
            "grid_auto_flow": null,
            "grid_auto_rows": null,
            "grid_column": null,
            "grid_gap": null,
            "grid_row": null,
            "grid_template_areas": null,
            "grid_template_columns": null,
            "grid_template_rows": null,
            "height": null,
            "justify_content": null,
            "justify_items": null,
            "left": null,
            "margin": null,
            "max_height": null,
            "max_width": null,
            "min_height": null,
            "min_width": null,
            "object_fit": null,
            "object_position": null,
            "order": null,
            "overflow": null,
            "overflow_x": null,
            "overflow_y": null,
            "padding": null,
            "right": null,
            "top": null,
            "visibility": null,
            "width": null
          }
        },
        "bb3a5993379b494ba466a4363f2a0ca5": {
          "model_module": "@jupyter-widgets/controls",
          "model_module_version": "1.5.0",
          "model_name": "FloatProgressModel",
          "state": {
            "_dom_classes": [],
            "_model_module": "@jupyter-widgets/controls",
            "_model_module_version": "1.5.0",
            "_model_name": "FloatProgressModel",
            "_view_count": null,
            "_view_module": "@jupyter-widgets/controls",
            "_view_module_version": "1.5.0",
            "_view_name": "ProgressView",
            "bar_style": "success",
            "description": "",
            "description_tooltip": null,
            "layout": "IPY_MODEL_e47c0c586db842a2ae53bbd3c32ca015",
            "max": 570,
            "min": 0,
            "orientation": "horizontal",
            "style": "IPY_MODEL_11bc2df30b68450dacda71f962766969",
            "value": 570
          }
        },
        "c611abf19a764f528365c13a62e2afe7": {
          "model_module": "@jupyter-widgets/controls",
          "model_module_version": "1.5.0",
          "model_name": "HBoxModel",
          "state": {
            "_dom_classes": [],
            "_model_module": "@jupyter-widgets/controls",
            "_model_module_version": "1.5.0",
            "_model_name": "HBoxModel",
            "_view_count": null,
            "_view_module": "@jupyter-widgets/controls",
            "_view_module_version": "1.5.0",
            "_view_name": "HBoxView",
            "box_style": "",
            "children": [
              "IPY_MODEL_9b503f08ac954b0cb10c0898cffbf8d2",
              "IPY_MODEL_bb3a5993379b494ba466a4363f2a0ca5",
              "IPY_MODEL_5f7f5bcb4bad4e27ad1a29403833e331"
            ],
            "layout": "IPY_MODEL_d1eeebd81a094663bf5d888d6cb57cf0"
          }
        },
        "c7a2d2b15b24400b93b0fbf4ed99c4f2": {
          "model_module": "@jupyter-widgets/controls",
          "model_module_version": "1.5.0",
          "model_name": "FloatProgressModel",
          "state": {
            "_dom_classes": [],
            "_model_module": "@jupyter-widgets/controls",
            "_model_module_version": "1.5.0",
            "_model_name": "FloatProgressModel",
            "_view_count": null,
            "_view_module": "@jupyter-widgets/controls",
            "_view_module_version": "1.5.0",
            "_view_name": "ProgressView",
            "bar_style": "success",
            "description": "",
            "description_tooltip": null,
            "layout": "IPY_MODEL_40fd42a206a5413f8f686db39e9f9189",
            "max": 231508,
            "min": 0,
            "orientation": "horizontal",
            "style": "IPY_MODEL_189eb26d2c8d49b2b2916a01568fbac5",
            "value": 231508
          }
        },
        "d1eeebd81a094663bf5d888d6cb57cf0": {
          "model_module": "@jupyter-widgets/base",
          "model_module_version": "1.2.0",
          "model_name": "LayoutModel",
          "state": {
            "_model_module": "@jupyter-widgets/base",
            "_model_module_version": "1.2.0",
            "_model_name": "LayoutModel",
            "_view_count": null,
            "_view_module": "@jupyter-widgets/base",
            "_view_module_version": "1.2.0",
            "_view_name": "LayoutView",
            "align_content": null,
            "align_items": null,
            "align_self": null,
            "border": null,
            "bottom": null,
            "display": null,
            "flex": null,
            "flex_flow": null,
            "grid_area": null,
            "grid_auto_columns": null,
            "grid_auto_flow": null,
            "grid_auto_rows": null,
            "grid_column": null,
            "grid_gap": null,
            "grid_row": null,
            "grid_template_areas": null,
            "grid_template_columns": null,
            "grid_template_rows": null,
            "height": null,
            "justify_content": null,
            "justify_items": null,
            "left": null,
            "margin": null,
            "max_height": null,
            "max_width": null,
            "min_height": null,
            "min_width": null,
            "object_fit": null,
            "object_position": null,
            "order": null,
            "overflow": null,
            "overflow_x": null,
            "overflow_y": null,
            "padding": null,
            "right": null,
            "top": null,
            "visibility": null,
            "width": null
          }
        },
        "d9e0c178a1504661ac9ec1e11ee4ec72": {
          "model_module": "@jupyter-widgets/controls",
          "model_module_version": "1.5.0",
          "model_name": "DescriptionStyleModel",
          "state": {
            "_model_module": "@jupyter-widgets/controls",
            "_model_module_version": "1.5.0",
            "_model_name": "DescriptionStyleModel",
            "_view_count": null,
            "_view_module": "@jupyter-widgets/base",
            "_view_module_version": "1.2.0",
            "_view_name": "StyleView",
            "description_width": ""
          }
        },
        "dbf387efd4be46b2aaa9c2a46c711844": {
          "model_module": "@jupyter-widgets/base",
          "model_module_version": "1.2.0",
          "model_name": "LayoutModel",
          "state": {
            "_model_module": "@jupyter-widgets/base",
            "_model_module_version": "1.2.0",
            "_model_name": "LayoutModel",
            "_view_count": null,
            "_view_module": "@jupyter-widgets/base",
            "_view_module_version": "1.2.0",
            "_view_name": "LayoutView",
            "align_content": null,
            "align_items": null,
            "align_self": null,
            "border": null,
            "bottom": null,
            "display": null,
            "flex": null,
            "flex_flow": null,
            "grid_area": null,
            "grid_auto_columns": null,
            "grid_auto_flow": null,
            "grid_auto_rows": null,
            "grid_column": null,
            "grid_gap": null,
            "grid_row": null,
            "grid_template_areas": null,
            "grid_template_columns": null,
            "grid_template_rows": null,
            "height": null,
            "justify_content": null,
            "justify_items": null,
            "left": null,
            "margin": null,
            "max_height": null,
            "max_width": null,
            "min_height": null,
            "min_width": null,
            "object_fit": null,
            "object_position": null,
            "order": null,
            "overflow": null,
            "overflow_x": null,
            "overflow_y": null,
            "padding": null,
            "right": null,
            "top": null,
            "visibility": null,
            "width": null
          }
        },
        "dd9a9f71b33d4d6a954ef16b3cb3525d": {
          "model_module": "@jupyter-widgets/controls",
          "model_module_version": "1.5.0",
          "model_name": "HBoxModel",
          "state": {
            "_dom_classes": [],
            "_model_module": "@jupyter-widgets/controls",
            "_model_module_version": "1.5.0",
            "_model_name": "HBoxModel",
            "_view_count": null,
            "_view_module": "@jupyter-widgets/controls",
            "_view_module_version": "1.5.0",
            "_view_name": "HBoxView",
            "box_style": "",
            "children": [
              "IPY_MODEL_65badfafdf1642458fc1c08ff65cfce0",
              "IPY_MODEL_c7a2d2b15b24400b93b0fbf4ed99c4f2",
              "IPY_MODEL_e8a89c80faf541308235bb99dcb854e5"
            ],
            "layout": "IPY_MODEL_aca06ba407004a2699a69247c7bedcd7"
          }
        },
        "e055d8ce137e4353aff588247cefc329": {
          "model_module": "@jupyter-widgets/controls",
          "model_module_version": "1.5.0",
          "model_name": "DescriptionStyleModel",
          "state": {
            "_model_module": "@jupyter-widgets/controls",
            "_model_module_version": "1.5.0",
            "_model_name": "DescriptionStyleModel",
            "_view_count": null,
            "_view_module": "@jupyter-widgets/base",
            "_view_module_version": "1.2.0",
            "_view_name": "StyleView",
            "description_width": ""
          }
        },
        "e47c0c586db842a2ae53bbd3c32ca015": {
          "model_module": "@jupyter-widgets/base",
          "model_module_version": "1.2.0",
          "model_name": "LayoutModel",
          "state": {
            "_model_module": "@jupyter-widgets/base",
            "_model_module_version": "1.2.0",
            "_model_name": "LayoutModel",
            "_view_count": null,
            "_view_module": "@jupyter-widgets/base",
            "_view_module_version": "1.2.0",
            "_view_name": "LayoutView",
            "align_content": null,
            "align_items": null,
            "align_self": null,
            "border": null,
            "bottom": null,
            "display": null,
            "flex": null,
            "flex_flow": null,
            "grid_area": null,
            "grid_auto_columns": null,
            "grid_auto_flow": null,
            "grid_auto_rows": null,
            "grid_column": null,
            "grid_gap": null,
            "grid_row": null,
            "grid_template_areas": null,
            "grid_template_columns": null,
            "grid_template_rows": null,
            "height": null,
            "justify_content": null,
            "justify_items": null,
            "left": null,
            "margin": null,
            "max_height": null,
            "max_width": null,
            "min_height": null,
            "min_width": null,
            "object_fit": null,
            "object_position": null,
            "order": null,
            "overflow": null,
            "overflow_x": null,
            "overflow_y": null,
            "padding": null,
            "right": null,
            "top": null,
            "visibility": null,
            "width": null
          }
        },
        "e885039ab7e94af8868002bdbe0ac0b5": {
          "model_module": "@jupyter-widgets/controls",
          "model_module_version": "1.5.0",
          "model_name": "HTMLModel",
          "state": {
            "_dom_classes": [],
            "_model_module": "@jupyter-widgets/controls",
            "_model_module_version": "1.5.0",
            "_model_name": "HTMLModel",
            "_view_count": null,
            "_view_module": "@jupyter-widgets/controls",
            "_view_module_version": "1.5.0",
            "_view_name": "HTMLView",
            "description": "",
            "description_tooltip": null,
            "layout": "IPY_MODEL_e9bfa520c81f4380929201b83aaa1522",
            "placeholder": "​",
            "style": "IPY_MODEL_33f3b5e2e9e1476eb096c7f7343a1b6f",
            "value": " 48.0/48.0 [00:00&lt;00:00, 5.17kB/s]"
          }
        },
        "e8a89c80faf541308235bb99dcb854e5": {
          "model_module": "@jupyter-widgets/controls",
          "model_module_version": "1.5.0",
          "model_name": "HTMLModel",
          "state": {
            "_dom_classes": [],
            "_model_module": "@jupyter-widgets/controls",
            "_model_module_version": "1.5.0",
            "_model_name": "HTMLModel",
            "_view_count": null,
            "_view_module": "@jupyter-widgets/controls",
            "_view_module_version": "1.5.0",
            "_view_name": "HTMLView",
            "description": "",
            "description_tooltip": null,
            "layout": "IPY_MODEL_27bd20b979584dfaa105082fb683fe0d",
            "placeholder": "​",
            "style": "IPY_MODEL_2106754f81c7495e9664af8634c87362",
            "value": " 232k/232k [00:00&lt;00:00, 604kB/s]"
          }
        },
        "e9bfa520c81f4380929201b83aaa1522": {
          "model_module": "@jupyter-widgets/base",
          "model_module_version": "1.2.0",
          "model_name": "LayoutModel",
          "state": {
            "_model_module": "@jupyter-widgets/base",
            "_model_module_version": "1.2.0",
            "_model_name": "LayoutModel",
            "_view_count": null,
            "_view_module": "@jupyter-widgets/base",
            "_view_module_version": "1.2.0",
            "_view_name": "LayoutView",
            "align_content": null,
            "align_items": null,
            "align_self": null,
            "border": null,
            "bottom": null,
            "display": null,
            "flex": null,
            "flex_flow": null,
            "grid_area": null,
            "grid_auto_columns": null,
            "grid_auto_flow": null,
            "grid_auto_rows": null,
            "grid_column": null,
            "grid_gap": null,
            "grid_row": null,
            "grid_template_areas": null,
            "grid_template_columns": null,
            "grid_template_rows": null,
            "height": null,
            "justify_content": null,
            "justify_items": null,
            "left": null,
            "margin": null,
            "max_height": null,
            "max_width": null,
            "min_height": null,
            "min_width": null,
            "object_fit": null,
            "object_position": null,
            "order": null,
            "overflow": null,
            "overflow_x": null,
            "overflow_y": null,
            "padding": null,
            "right": null,
            "top": null,
            "visibility": null,
            "width": null
          }
        },
        "efb3622a5f174514bb3a1e513ee6d598": {
          "model_module": "@jupyter-widgets/controls",
          "model_module_version": "1.5.0",
          "model_name": "DescriptionStyleModel",
          "state": {
            "_model_module": "@jupyter-widgets/controls",
            "_model_module_version": "1.5.0",
            "_model_name": "DescriptionStyleModel",
            "_view_count": null,
            "_view_module": "@jupyter-widgets/base",
            "_view_module_version": "1.2.0",
            "_view_name": "StyleView",
            "description_width": ""
          }
        },
        "f569496750284332b4cb072116efb41b": {
          "model_module": "@jupyter-widgets/controls",
          "model_module_version": "1.5.0",
          "model_name": "FloatProgressModel",
          "state": {
            "_dom_classes": [],
            "_model_module": "@jupyter-widgets/controls",
            "_model_module_version": "1.5.0",
            "_model_name": "FloatProgressModel",
            "_view_count": null,
            "_view_module": "@jupyter-widgets/controls",
            "_view_module_version": "1.5.0",
            "_view_name": "ProgressView",
            "bar_style": "success",
            "description": "",
            "description_tooltip": null,
            "layout": "IPY_MODEL_4bd3085f82b84be58a02a45c95929e67",
            "max": 466062,
            "min": 0,
            "orientation": "horizontal",
            "style": "IPY_MODEL_42a4e75a52284754a2aa155f70fc55b7",
            "value": 466062
          }
        },
        "f9506dac03514dcfb7da7d8ddfa51edb": {
          "model_module": "@jupyter-widgets/base",
          "model_module_version": "1.2.0",
          "model_name": "LayoutModel",
          "state": {
            "_model_module": "@jupyter-widgets/base",
            "_model_module_version": "1.2.0",
            "_model_name": "LayoutModel",
            "_view_count": null,
            "_view_module": "@jupyter-widgets/base",
            "_view_module_version": "1.2.0",
            "_view_name": "LayoutView",
            "align_content": null,
            "align_items": null,
            "align_self": null,
            "border": null,
            "bottom": null,
            "display": null,
            "flex": null,
            "flex_flow": null,
            "grid_area": null,
            "grid_auto_columns": null,
            "grid_auto_flow": null,
            "grid_auto_rows": null,
            "grid_column": null,
            "grid_gap": null,
            "grid_row": null,
            "grid_template_areas": null,
            "grid_template_columns": null,
            "grid_template_rows": null,
            "height": null,
            "justify_content": null,
            "justify_items": null,
            "left": null,
            "margin": null,
            "max_height": null,
            "max_width": null,
            "min_height": null,
            "min_width": null,
            "object_fit": null,
            "object_position": null,
            "order": null,
            "overflow": null,
            "overflow_x": null,
            "overflow_y": null,
            "padding": null,
            "right": null,
            "top": null,
            "visibility": null,
            "width": null
          }
        }
      }
    }
  },
  "nbformat": 4,
  "nbformat_minor": 5
}
